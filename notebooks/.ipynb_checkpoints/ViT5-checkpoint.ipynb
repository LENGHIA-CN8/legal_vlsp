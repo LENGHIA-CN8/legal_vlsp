{
 "cells": [
  {
   "cell_type": "code",
   "execution_count": 1,
   "id": "a82c511e-b764-474d-8265-e1985b5a4a6b",
   "metadata": {
    "tags": []
   },
   "outputs": [],
   "source": [
    "import pandas as pd\n",
    "import numpy as np\n",
    "import torch\n",
    "from pathlib import Path\n",
    "from sklearn.model_selection import train_test_split\n",
    "import textwrap\n",
    "\n",
    "from torch.utils.data import Dataset,DataLoader, random_split\n",
    "import pytorch_lightning as pl\n",
    "from pytorch_lightning.callbacks import ModelCheckpoint\n",
    "from pytorch_lightning import Trainer\n",
    "\n",
    "from transformers import(\n",
    "    AdamW,\n",
    "    AutoModelForSeq2SeqLM,\n",
    "    AutoTokenizer,\n",
    "    get_linear_schedule_with_warmup,\n",
    "    DataCollatorForSeq2Seq,\n",
    "    Seq2SeqTrainingArguments,\n",
    "    Seq2SeqTrainer\n",
    ")"
   ]
  },
  {
   "cell_type": "code",
   "execution_count": 2,
   "id": "7ee13b38-d892-4924-9c29-5cf47a331c99",
   "metadata": {
    "tags": []
   },
   "outputs": [],
   "source": [
    "from datasets import Dataset"
   ]
  },
  {
   "cell_type": "code",
   "execution_count": 4,
   "id": "0948d8f6-a36e-42a7-92a0-5db1001b048a",
   "metadata": {
    "tags": []
   },
   "outputs": [],
   "source": [
    "def get_device_and_set_seed(seed):\n",
    "    \"\"\" Set all seeds to make results reproducible \"\"\"\n",
    "    torch.manual_seed(seed)\n",
    "    torch.cuda.manual_seed_all(seed)\n",
    "    torch.backends.cudnn.deterministic = True\n",
    "    np.random.seed(seed)\n",
    "    use_cuda = torch.cuda.is_available()\n",
    "    device = torch.device(\"cuda:1\" if use_cuda else \"cpu\")\n",
    "    return device\n",
    "    \n",
    "SEED = 123\n",
    "device = get_device_and_set_seed(SEED)"
   ]
  },
  {
   "cell_type": "code",
   "execution_count": 5,
   "id": "2fbb28ca-7c2c-4539-8166-84a69f022064",
   "metadata": {},
   "outputs": [
    {
     "data": {
      "text/plain": [
       "device(type='cuda', index=1)"
      ]
     },
     "execution_count": 5,
     "metadata": {},
     "output_type": "execute_result"
    }
   ],
   "source": [
    "device"
   ]
  },
  {
   "cell_type": "code",
   "execution_count": 6,
   "id": "b08bd429-b4d4-4051-9981-f4229782c766",
   "metadata": {
    "tags": []
   },
   "outputs": [
    {
     "data": {
      "text/plain": [
       "T5ForConditionalGeneration(\n",
       "  (shared): Embedding(36096, 768)\n",
       "  (encoder): T5Stack(\n",
       "    (embed_tokens): Embedding(36096, 768)\n",
       "    (block): ModuleList(\n",
       "      (0): T5Block(\n",
       "        (layer): ModuleList(\n",
       "          (0): T5LayerSelfAttention(\n",
       "            (SelfAttention): T5Attention(\n",
       "              (q): Linear(in_features=768, out_features=768, bias=False)\n",
       "              (k): Linear(in_features=768, out_features=768, bias=False)\n",
       "              (v): Linear(in_features=768, out_features=768, bias=False)\n",
       "              (o): Linear(in_features=768, out_features=768, bias=False)\n",
       "              (relative_attention_bias): Embedding(32, 12)\n",
       "            )\n",
       "            (layer_norm): T5LayerNorm()\n",
       "            (dropout): Dropout(p=0.1, inplace=False)\n",
       "          )\n",
       "          (1): T5LayerFF(\n",
       "            (DenseReluDense): T5DenseActDense(\n",
       "              (wi): Linear(in_features=768, out_features=3072, bias=False)\n",
       "              (wo): Linear(in_features=3072, out_features=768, bias=False)\n",
       "              (dropout): Dropout(p=0.1, inplace=False)\n",
       "              (act): ReLU()\n",
       "            )\n",
       "            (layer_norm): T5LayerNorm()\n",
       "            (dropout): Dropout(p=0.1, inplace=False)\n",
       "          )\n",
       "        )\n",
       "      )\n",
       "      (1-11): 11 x T5Block(\n",
       "        (layer): ModuleList(\n",
       "          (0): T5LayerSelfAttention(\n",
       "            (SelfAttention): T5Attention(\n",
       "              (q): Linear(in_features=768, out_features=768, bias=False)\n",
       "              (k): Linear(in_features=768, out_features=768, bias=False)\n",
       "              (v): Linear(in_features=768, out_features=768, bias=False)\n",
       "              (o): Linear(in_features=768, out_features=768, bias=False)\n",
       "            )\n",
       "            (layer_norm): T5LayerNorm()\n",
       "            (dropout): Dropout(p=0.1, inplace=False)\n",
       "          )\n",
       "          (1): T5LayerFF(\n",
       "            (DenseReluDense): T5DenseActDense(\n",
       "              (wi): Linear(in_features=768, out_features=3072, bias=False)\n",
       "              (wo): Linear(in_features=3072, out_features=768, bias=False)\n",
       "              (dropout): Dropout(p=0.1, inplace=False)\n",
       "              (act): ReLU()\n",
       "            )\n",
       "            (layer_norm): T5LayerNorm()\n",
       "            (dropout): Dropout(p=0.1, inplace=False)\n",
       "          )\n",
       "        )\n",
       "      )\n",
       "    )\n",
       "    (final_layer_norm): T5LayerNorm()\n",
       "    (dropout): Dropout(p=0.1, inplace=False)\n",
       "  )\n",
       "  (decoder): T5Stack(\n",
       "    (embed_tokens): Embedding(36096, 768)\n",
       "    (block): ModuleList(\n",
       "      (0): T5Block(\n",
       "        (layer): ModuleList(\n",
       "          (0): T5LayerSelfAttention(\n",
       "            (SelfAttention): T5Attention(\n",
       "              (q): Linear(in_features=768, out_features=768, bias=False)\n",
       "              (k): Linear(in_features=768, out_features=768, bias=False)\n",
       "              (v): Linear(in_features=768, out_features=768, bias=False)\n",
       "              (o): Linear(in_features=768, out_features=768, bias=False)\n",
       "              (relative_attention_bias): Embedding(32, 12)\n",
       "            )\n",
       "            (layer_norm): T5LayerNorm()\n",
       "            (dropout): Dropout(p=0.1, inplace=False)\n",
       "          )\n",
       "          (1): T5LayerCrossAttention(\n",
       "            (EncDecAttention): T5Attention(\n",
       "              (q): Linear(in_features=768, out_features=768, bias=False)\n",
       "              (k): Linear(in_features=768, out_features=768, bias=False)\n",
       "              (v): Linear(in_features=768, out_features=768, bias=False)\n",
       "              (o): Linear(in_features=768, out_features=768, bias=False)\n",
       "            )\n",
       "            (layer_norm): T5LayerNorm()\n",
       "            (dropout): Dropout(p=0.1, inplace=False)\n",
       "          )\n",
       "          (2): T5LayerFF(\n",
       "            (DenseReluDense): T5DenseActDense(\n",
       "              (wi): Linear(in_features=768, out_features=3072, bias=False)\n",
       "              (wo): Linear(in_features=3072, out_features=768, bias=False)\n",
       "              (dropout): Dropout(p=0.1, inplace=False)\n",
       "              (act): ReLU()\n",
       "            )\n",
       "            (layer_norm): T5LayerNorm()\n",
       "            (dropout): Dropout(p=0.1, inplace=False)\n",
       "          )\n",
       "        )\n",
       "      )\n",
       "      (1-11): 11 x T5Block(\n",
       "        (layer): ModuleList(\n",
       "          (0): T5LayerSelfAttention(\n",
       "            (SelfAttention): T5Attention(\n",
       "              (q): Linear(in_features=768, out_features=768, bias=False)\n",
       "              (k): Linear(in_features=768, out_features=768, bias=False)\n",
       "              (v): Linear(in_features=768, out_features=768, bias=False)\n",
       "              (o): Linear(in_features=768, out_features=768, bias=False)\n",
       "            )\n",
       "            (layer_norm): T5LayerNorm()\n",
       "            (dropout): Dropout(p=0.1, inplace=False)\n",
       "          )\n",
       "          (1): T5LayerCrossAttention(\n",
       "            (EncDecAttention): T5Attention(\n",
       "              (q): Linear(in_features=768, out_features=768, bias=False)\n",
       "              (k): Linear(in_features=768, out_features=768, bias=False)\n",
       "              (v): Linear(in_features=768, out_features=768, bias=False)\n",
       "              (o): Linear(in_features=768, out_features=768, bias=False)\n",
       "            )\n",
       "            (layer_norm): T5LayerNorm()\n",
       "            (dropout): Dropout(p=0.1, inplace=False)\n",
       "          )\n",
       "          (2): T5LayerFF(\n",
       "            (DenseReluDense): T5DenseActDense(\n",
       "              (wi): Linear(in_features=768, out_features=3072, bias=False)\n",
       "              (wo): Linear(in_features=3072, out_features=768, bias=False)\n",
       "              (dropout): Dropout(p=0.1, inplace=False)\n",
       "              (act): ReLU()\n",
       "            )\n",
       "            (layer_norm): T5LayerNorm()\n",
       "            (dropout): Dropout(p=0.1, inplace=False)\n",
       "          )\n",
       "        )\n",
       "      )\n",
       "    )\n",
       "    (final_layer_norm): T5LayerNorm()\n",
       "    (dropout): Dropout(p=0.1, inplace=False)\n",
       "  )\n",
       "  (lm_head): Linear(in_features=768, out_features=36096, bias=False)\n",
       ")"
      ]
     },
     "execution_count": 6,
     "metadata": {},
     "output_type": "execute_result"
    }
   ],
   "source": [
    "model = AutoModelForSeq2SeqLM.from_pretrained(\"VietAI/vit5-base\")\n",
    "model.to(device)"
   ]
  },
  {
   "cell_type": "code",
   "execution_count": 7,
   "id": "9dfadf22-5e71-4687-98b2-8c93a8f55d63",
   "metadata": {
    "tags": []
   },
   "outputs": [
    {
     "data": {
      "text/plain": [
       "True"
      ]
     },
     "execution_count": 7,
     "metadata": {},
     "output_type": "execute_result"
    }
   ],
   "source": [
    "next(model.parameters()).is_cuda"
   ]
  },
  {
   "cell_type": "code",
   "execution_count": 8,
   "id": "1c5480c2-96da-49f4-aa25-78e7dc3322a7",
   "metadata": {
    "tags": []
   },
   "outputs": [],
   "source": [
    "tokenizer = AutoTokenizer.from_pretrained(\"VietAI/vit5-base\")  "
   ]
  },
  {
   "cell_type": "code",
   "execution_count": 9,
   "id": "e1a6e231-a513-4d7a-ac58-41e4cc32386e",
   "metadata": {},
   "outputs": [
    {
     "data": {
      "text/plain": [
       "{'t5-small': 512, 't5-base': 512, 't5-large': 512, 't5-3b': 512, 't5-11b': 512}"
      ]
     },
     "execution_count": 9,
     "metadata": {},
     "output_type": "execute_result"
    }
   ],
   "source": [
    "tokenizer.max_model_input_sizes"
   ]
  },
  {
   "cell_type": "code",
   "execution_count": 10,
   "id": "8f66f0df-fb15-46ac-ad1c-9262f223f96a",
   "metadata": {
    "tags": []
   },
   "outputs": [],
   "source": [
    "labels = tokenizer(\n",
    "        'tôi thích bạn', max_length=256, truncation=True, padding=True\n",
    "    )"
   ]
  },
  {
   "cell_type": "code",
   "execution_count": 11,
   "id": "22780b21-ffdc-42ef-83a4-e00a30c05323",
   "metadata": {
    "tags": []
   },
   "outputs": [
    {
     "data": {
      "text/plain": [
       "{'input_ids': [671, 1470, 1113, 1], 'attention_mask': [1, 1, 1, 1]}"
      ]
     },
     "execution_count": 11,
     "metadata": {},
     "output_type": "execute_result"
    }
   ],
   "source": [
    "labels"
   ]
  },
  {
   "cell_type": "markdown",
   "id": "1f31dcfd-d816-4484-a673-cac97e852e76",
   "metadata": {},
   "source": [
    "## Prepare Data"
   ]
  },
  {
   "cell_type": "code",
   "execution_count": 12,
   "id": "492c52cf-2cdb-4dec-86db-df658dbb653c",
   "metadata": {
    "tags": []
   },
   "outputs": [],
   "source": [
    "train_path = '../processed_data/train_df.csv'"
   ]
  },
  {
   "cell_type": "code",
   "execution_count": 28,
   "id": "dbbfd9cc-dd83-47c7-9e97-0f98716c8da9",
   "metadata": {},
   "outputs": [],
   "source": [
    "test_path = '../processed_data/test_df.csv'"
   ]
  },
  {
   "cell_type": "code",
   "execution_count": 29,
   "id": "1112082b-6cff-44fc-8f71-be11161e0079",
   "metadata": {},
   "outputs": [
    {
     "data": {
      "text/html": [
       "<div>\n",
       "<style scoped>\n",
       "    .dataframe tbody tr th:only-of-type {\n",
       "        vertical-align: middle;\n",
       "    }\n",
       "\n",
       "    .dataframe tbody tr th {\n",
       "        vertical-align: top;\n",
       "    }\n",
       "\n",
       "    .dataframe thead th {\n",
       "        text-align: right;\n",
       "    }\n",
       "</style>\n",
       "<table border=\"1\" class=\"dataframe\">\n",
       "  <thead>\n",
       "    <tr style=\"text-align: right;\">\n",
       "      <th></th>\n",
       "      <th>example_id</th>\n",
       "      <th>statement</th>\n",
       "      <th>law_id</th>\n",
       "      <th>article_id</th>\n",
       "    </tr>\n",
       "  </thead>\n",
       "  <tbody>\n",
       "    <tr>\n",
       "      <th>0</th>\n",
       "      <td>qr6S2jA9GG</td>\n",
       "      <td>Nếu không phạm tội quả tang, một người sẽ khôn...</td>\n",
       "      <td>Hiến pháp 2013</td>\n",
       "      <td>20</td>\n",
       "    </tr>\n",
       "    <tr>\n",
       "      <th>1</th>\n",
       "      <td>zFWTqve74q</td>\n",
       "      <td>Tháng hành động quốc gia phòng, chống bạo lực ...</td>\n",
       "      <td>Luật Phòng, chống bạo lực gia đình 2022</td>\n",
       "      <td>7</td>\n",
       "    </tr>\n",
       "    <tr>\n",
       "      <th>2</th>\n",
       "      <td>bv98C2F6I9</td>\n",
       "      <td>Hoạt động thanh tra phải được thực hiện theo k...</td>\n",
       "      <td>Luật Thanh tra 2022</td>\n",
       "      <td>46</td>\n",
       "    </tr>\n",
       "    <tr>\n",
       "      <th>3</th>\n",
       "      <td>Kzmq9qdScq</td>\n",
       "      <td>Loại hợp đồng nào sau đây không được BLDS 2015...</td>\n",
       "      <td>Bộ Luật Dân sự 2015</td>\n",
       "      <td>402</td>\n",
       "    </tr>\n",
       "    <tr>\n",
       "      <th>4</th>\n",
       "      <td>8x8IdMONw9</td>\n",
       "      <td>Bản án phúc thẩm được tuyên vào ngày 20/01/202...</td>\n",
       "      <td>Luật Tố tụng hành chính 2015</td>\n",
       "      <td>242</td>\n",
       "    </tr>\n",
       "  </tbody>\n",
       "</table>\n",
       "</div>"
      ],
      "text/plain": [
       "   example_id                                          statement  \\\n",
       "0  qr6S2jA9GG  Nếu không phạm tội quả tang, một người sẽ khôn...   \n",
       "1  zFWTqve74q  Tháng hành động quốc gia phòng, chống bạo lực ...   \n",
       "2  bv98C2F6I9  Hoạt động thanh tra phải được thực hiện theo k...   \n",
       "3  Kzmq9qdScq  Loại hợp đồng nào sau đây không được BLDS 2015...   \n",
       "4  8x8IdMONw9  Bản án phúc thẩm được tuyên vào ngày 20/01/202...   \n",
       "\n",
       "                                    law_id  article_id  \n",
       "0                           Hiến pháp 2013          20  \n",
       "1  Luật Phòng, chống bạo lực gia đình 2022           7  \n",
       "2                      Luật Thanh tra 2022          46  \n",
       "3                      Bộ Luật Dân sự 2015         402  \n",
       "4             Luật Tố tụng hành chính 2015         242  "
      ]
     },
     "execution_count": 29,
     "metadata": {},
     "output_type": "execute_result"
    }
   ],
   "source": [
    "test_df = pd.read_csv(test_path)\n",
    "test_df.head()"
   ]
  },
  {
   "cell_type": "code",
   "execution_count": 13,
   "id": "c03f8e78-ede8-421d-bf08-53b1e5f5b1ca",
   "metadata": {
    "tags": []
   },
   "outputs": [
    {
     "data": {
      "text/html": [
       "<div>\n",
       "<style scoped>\n",
       "    .dataframe tbody tr th:only-of-type {\n",
       "        vertical-align: middle;\n",
       "    }\n",
       "\n",
       "    .dataframe tbody tr th {\n",
       "        vertical-align: top;\n",
       "    }\n",
       "\n",
       "    .dataframe thead th {\n",
       "        text-align: right;\n",
       "    }\n",
       "</style>\n",
       "<table border=\"1\" class=\"dataframe\">\n",
       "  <thead>\n",
       "    <tr style=\"text-align: right;\">\n",
       "      <th></th>\n",
       "      <th>example_id</th>\n",
       "      <th>label</th>\n",
       "      <th>statement</th>\n",
       "      <th>law_id</th>\n",
       "      <th>article_id</th>\n",
       "      <th>segment</th>\n",
       "    </tr>\n",
       "  </thead>\n",
       "  <tbody>\n",
       "    <tr>\n",
       "      <th>0</th>\n",
       "      <td>q9zjh7Uw7Q</td>\n",
       "      <td>No</td>\n",
       "      <td>Người xem dưới 16 tuổi được xem phim có nội du...</td>\n",
       "      <td>Luật Điện ảnh 2022</td>\n",
       "      <td>32</td>\n",
       "      <td>Người xem dưới 16 tuổi được xem phim có nội_du...</td>\n",
       "    </tr>\n",
       "    <tr>\n",
       "      <th>1</th>\n",
       "      <td>ckQFn8y202</td>\n",
       "      <td>No</td>\n",
       "      <td>Trong vòng 03 ngày làm việc, kể từ ngày người ...</td>\n",
       "      <td>Luật Phòng, chống ma túy 2021</td>\n",
       "      <td>30</td>\n",
       "      <td>Trong vòng 03 ngày làm_việc , kể từ ngày người...</td>\n",
       "    </tr>\n",
       "    <tr>\n",
       "      <th>2</th>\n",
       "      <td>3ROu621ZEO</td>\n",
       "      <td>Yes</td>\n",
       "      <td>Viên chức có 02 năm liên tiếp bị phân loại đán...</td>\n",
       "      <td>Luật Viên chức 2010</td>\n",
       "      <td>29</td>\n",
       "      <td>Viên_chức có 02 năm liên_tiếp bị phân_loại đán...</td>\n",
       "    </tr>\n",
       "    <tr>\n",
       "      <th>3</th>\n",
       "      <td>VT1QuVmhCc</td>\n",
       "      <td>Yes</td>\n",
       "      <td>Các biện pháp cai nghiện ma túy là những biện ...</td>\n",
       "      <td>Luật Phòng, chống ma túy 2021</td>\n",
       "      <td>28</td>\n",
       "      <td>Các biện_pháp cai_nghiện ma_tuý là những biện_...</td>\n",
       "    </tr>\n",
       "    <tr>\n",
       "      <th>4</th>\n",
       "      <td>0MwITLtbmg</td>\n",
       "      <td>No</td>\n",
       "      <td>Viên chức thuộc một đơn vị sự nghiệp công lập ...</td>\n",
       "      <td>Luật Viên chức 2010</td>\n",
       "      <td>14</td>\n",
       "      <td>Viên_chức thuộc một đơn_vị sự_nghiệp công_lập ...</td>\n",
       "    </tr>\n",
       "  </tbody>\n",
       "</table>\n",
       "</div>"
      ],
      "text/plain": [
       "   example_id label                                          statement  \\\n",
       "0  q9zjh7Uw7Q    No  Người xem dưới 16 tuổi được xem phim có nội du...   \n",
       "1  ckQFn8y202    No  Trong vòng 03 ngày làm việc, kể từ ngày người ...   \n",
       "2  3ROu621ZEO   Yes  Viên chức có 02 năm liên tiếp bị phân loại đán...   \n",
       "3  VT1QuVmhCc   Yes  Các biện pháp cai nghiện ma túy là những biện ...   \n",
       "4  0MwITLtbmg    No  Viên chức thuộc một đơn vị sự nghiệp công lập ...   \n",
       "\n",
       "                          law_id  article_id  \\\n",
       "0             Luật Điện ảnh 2022          32   \n",
       "1  Luật Phòng, chống ma túy 2021          30   \n",
       "2            Luật Viên chức 2010          29   \n",
       "3  Luật Phòng, chống ma túy 2021          28   \n",
       "4            Luật Viên chức 2010          14   \n",
       "\n",
       "                                             segment  \n",
       "0  Người xem dưới 16 tuổi được xem phim có nội_du...  \n",
       "1  Trong vòng 03 ngày làm_việc , kể từ ngày người...  \n",
       "2  Viên_chức có 02 năm liên_tiếp bị phân_loại đán...  \n",
       "3  Các biện_pháp cai_nghiện ma_tuý là những biện_...  \n",
       "4  Viên_chức thuộc một đơn_vị sự_nghiệp công_lập ...  "
      ]
     },
     "execution_count": 13,
     "metadata": {},
     "output_type": "execute_result"
    }
   ],
   "source": [
    "train_df = pd.read_csv(train_path)\n",
    "train_df.head()"
   ]
  },
  {
   "cell_type": "code",
   "execution_count": 14,
   "id": "712eb42a-946f-4272-bef3-098fd60bf5cb",
   "metadata": {},
   "outputs": [],
   "source": [
    "legal_df = pd.read_csv('../processed_data/legal_df.csv')"
   ]
  },
  {
   "cell_type": "code",
   "execution_count": 15,
   "id": "11fa6af5-7d4b-4bee-b7d6-ddb6030aeafd",
   "metadata": {},
   "outputs": [
    {
     "data": {
      "text/html": [
       "<div>\n",
       "<style scoped>\n",
       "    .dataframe tbody tr th:only-of-type {\n",
       "        vertical-align: middle;\n",
       "    }\n",
       "\n",
       "    .dataframe tbody tr th {\n",
       "        vertical-align: top;\n",
       "    }\n",
       "\n",
       "    .dataframe thead th {\n",
       "        text-align: right;\n",
       "    }\n",
       "</style>\n",
       "<table border=\"1\" class=\"dataframe\">\n",
       "  <thead>\n",
       "    <tr style=\"text-align: right;\">\n",
       "      <th></th>\n",
       "      <th>example_id</th>\n",
       "      <th>label</th>\n",
       "      <th>statement</th>\n",
       "      <th>law_id</th>\n",
       "      <th>article_id</th>\n",
       "      <th>segment</th>\n",
       "      <th>text</th>\n",
       "    </tr>\n",
       "  </thead>\n",
       "  <tbody>\n",
       "    <tr>\n",
       "      <th>0</th>\n",
       "      <td>q9zjh7Uw7Q</td>\n",
       "      <td>No</td>\n",
       "      <td>Người xem dưới 16 tuổi được xem phim có nội du...</td>\n",
       "      <td>Luật Điện ảnh 2022</td>\n",
       "      <td>32</td>\n",
       "      <td>Người xem dưới 16 tuổi được xem phim có nội_du...</td>\n",
       "      <td>Phân loại phim\\n\\n1. Phim được phân loại theo ...</td>\n",
       "    </tr>\n",
       "    <tr>\n",
       "      <th>1</th>\n",
       "      <td>bu3nyKAUNT</td>\n",
       "      <td>No</td>\n",
       "      <td>Người xem từ 18 tuổi trở lên được pháp xem phi...</td>\n",
       "      <td>Luật Điện ảnh 2022</td>\n",
       "      <td>32</td>\n",
       "      <td>Người xem từ 18 tuổi trở lên được pháp xem phi...</td>\n",
       "      <td>Phân loại phim\\n\\n1. Phim được phân loại theo ...</td>\n",
       "    </tr>\n",
       "    <tr>\n",
       "      <th>2</th>\n",
       "      <td>aS4Oxqxklj</td>\n",
       "      <td>Yes</td>\n",
       "      <td>Người từ 16 tuổi trở lên được phép xem phim có...</td>\n",
       "      <td>Luật Điện ảnh 2022</td>\n",
       "      <td>32</td>\n",
       "      <td>Người từ 16 tuổi trở lên được phép xem phim có...</td>\n",
       "      <td>Phân loại phim\\n\\n1. Phim được phân loại theo ...</td>\n",
       "    </tr>\n",
       "    <tr>\n",
       "      <th>3</th>\n",
       "      <td>E3nezW9AK0</td>\n",
       "      <td>No</td>\n",
       "      <td>Phim loại C là phim được phép phổ biến đến ngư...</td>\n",
       "      <td>Luật Điện ảnh 2022</td>\n",
       "      <td>32</td>\n",
       "      <td>Phim loại C là phim được phép phổ_biến đến ngư...</td>\n",
       "      <td>Phân loại phim\\n\\n1. Phim được phân loại theo ...</td>\n",
       "    </tr>\n",
       "    <tr>\n",
       "      <th>4</th>\n",
       "      <td>ckQFn8y202</td>\n",
       "      <td>No</td>\n",
       "      <td>Trong vòng 03 ngày làm việc, kể từ ngày người ...</td>\n",
       "      <td>Luật Phòng, chống ma túy 2021</td>\n",
       "      <td>30</td>\n",
       "      <td>Trong vòng 03 ngày làm_việc , kể từ ngày người...</td>\n",
       "      <td>Cai nghiện ma túy tự nguyện tại gia đình, cộng...</td>\n",
       "    </tr>\n",
       "    <tr>\n",
       "      <th>...</th>\n",
       "      <td>...</td>\n",
       "      <td>...</td>\n",
       "      <td>...</td>\n",
       "      <td>...</td>\n",
       "      <td>...</td>\n",
       "      <td>...</td>\n",
       "      <td>...</td>\n",
       "    </tr>\n",
       "    <tr>\n",
       "      <th>2265</th>\n",
       "      <td>NaN</td>\n",
       "      <td>NaN</td>\n",
       "      <td>NaN</td>\n",
       "      <td>Luật Thanh niên 2020</td>\n",
       "      <td>36</td>\n",
       "      <td>NaN</td>\n",
       "      <td>Nội dung quản lý nhà nước về thanh niên\\n\\n1. ...</td>\n",
       "    </tr>\n",
       "    <tr>\n",
       "      <th>2266</th>\n",
       "      <td>NaN</td>\n",
       "      <td>NaN</td>\n",
       "      <td>NaN</td>\n",
       "      <td>Luật Thanh niên 2020</td>\n",
       "      <td>38</td>\n",
       "      <td>NaN</td>\n",
       "      <td>Trách nhiệm của Bộ Nội vụ\\n\\nBộ Nội vụ chịu tr...</td>\n",
       "    </tr>\n",
       "    <tr>\n",
       "      <th>2267</th>\n",
       "      <td>NaN</td>\n",
       "      <td>NaN</td>\n",
       "      <td>NaN</td>\n",
       "      <td>Luật Thanh niên 2020</td>\n",
       "      <td>39</td>\n",
       "      <td>NaN</td>\n",
       "      <td>Trách nhiệm của các Bộ, cơ quan ngang Bộ\\n\\nCá...</td>\n",
       "    </tr>\n",
       "    <tr>\n",
       "      <th>2268</th>\n",
       "      <td>NaN</td>\n",
       "      <td>NaN</td>\n",
       "      <td>NaN</td>\n",
       "      <td>Luật Thanh niên 2020</td>\n",
       "      <td>40</td>\n",
       "      <td>NaN</td>\n",
       "      <td>Trách nhiệm của Hội đồng nhân dân, Ủy ban nhân...</td>\n",
       "    </tr>\n",
       "    <tr>\n",
       "      <th>2269</th>\n",
       "      <td>NaN</td>\n",
       "      <td>NaN</td>\n",
       "      <td>NaN</td>\n",
       "      <td>Luật Thanh niên 2020</td>\n",
       "      <td>41</td>\n",
       "      <td>NaN</td>\n",
       "      <td>Hiệu lực thi hành\\n\\n1. Luật này có hiệu lực t...</td>\n",
       "    </tr>\n",
       "  </tbody>\n",
       "</table>\n",
       "<p>2270 rows × 7 columns</p>\n",
       "</div>"
      ],
      "text/plain": [
       "      example_id label                                          statement  \\\n",
       "0     q9zjh7Uw7Q    No  Người xem dưới 16 tuổi được xem phim có nội du...   \n",
       "1     bu3nyKAUNT    No  Người xem từ 18 tuổi trở lên được pháp xem phi...   \n",
       "2     aS4Oxqxklj   Yes  Người từ 16 tuổi trở lên được phép xem phim có...   \n",
       "3     E3nezW9AK0    No  Phim loại C là phim được phép phổ biến đến ngư...   \n",
       "4     ckQFn8y202    No  Trong vòng 03 ngày làm việc, kể từ ngày người ...   \n",
       "...          ...   ...                                                ...   \n",
       "2265         NaN   NaN                                                NaN   \n",
       "2266         NaN   NaN                                                NaN   \n",
       "2267         NaN   NaN                                                NaN   \n",
       "2268         NaN   NaN                                                NaN   \n",
       "2269         NaN   NaN                                                NaN   \n",
       "\n",
       "                             law_id  article_id  \\\n",
       "0                Luật Điện ảnh 2022          32   \n",
       "1                Luật Điện ảnh 2022          32   \n",
       "2                Luật Điện ảnh 2022          32   \n",
       "3                Luật Điện ảnh 2022          32   \n",
       "4     Luật Phòng, chống ma túy 2021          30   \n",
       "...                             ...         ...   \n",
       "2265           Luật Thanh niên 2020          36   \n",
       "2266           Luật Thanh niên 2020          38   \n",
       "2267           Luật Thanh niên 2020          39   \n",
       "2268           Luật Thanh niên 2020          40   \n",
       "2269           Luật Thanh niên 2020          41   \n",
       "\n",
       "                                                segment  \\\n",
       "0     Người xem dưới 16 tuổi được xem phim có nội_du...   \n",
       "1     Người xem từ 18 tuổi trở lên được pháp xem phi...   \n",
       "2     Người từ 16 tuổi trở lên được phép xem phim có...   \n",
       "3     Phim loại C là phim được phép phổ_biến đến ngư...   \n",
       "4     Trong vòng 03 ngày làm_việc , kể từ ngày người...   \n",
       "...                                                 ...   \n",
       "2265                                                NaN   \n",
       "2266                                                NaN   \n",
       "2267                                                NaN   \n",
       "2268                                                NaN   \n",
       "2269                                                NaN   \n",
       "\n",
       "                                                   text  \n",
       "0     Phân loại phim\\n\\n1. Phim được phân loại theo ...  \n",
       "1     Phân loại phim\\n\\n1. Phim được phân loại theo ...  \n",
       "2     Phân loại phim\\n\\n1. Phim được phân loại theo ...  \n",
       "3     Phân loại phim\\n\\n1. Phim được phân loại theo ...  \n",
       "4     Cai nghiện ma túy tự nguyện tại gia đình, cộng...  \n",
       "...                                                 ...  \n",
       "2265  Nội dung quản lý nhà nước về thanh niên\\n\\n1. ...  \n",
       "2266  Trách nhiệm của Bộ Nội vụ\\n\\nBộ Nội vụ chịu tr...  \n",
       "2267  Trách nhiệm của các Bộ, cơ quan ngang Bộ\\n\\nCá...  \n",
       "2268  Trách nhiệm của Hội đồng nhân dân, Ủy ban nhân...  \n",
       "2269  Hiệu lực thi hành\\n\\n1. Luật này có hiệu lực t...  \n",
       "\n",
       "[2270 rows x 7 columns]"
      ]
     },
     "execution_count": 15,
     "metadata": {},
     "output_type": "execute_result"
    }
   ],
   "source": [
    "merge_df = pd.merge(train_df, legal_df, on=['law_id', 'article_id'], suffixes=('_df1', '_df2'), how='outer')\n",
    "merge_df"
   ]
  },
  {
   "cell_type": "code",
   "execution_count": 31,
   "id": "1f95c051-9fb6-465d-ad30-9e10d4cc8f9a",
   "metadata": {},
   "outputs": [
    {
     "data": {
      "text/html": [
       "<div>\n",
       "<style scoped>\n",
       "    .dataframe tbody tr th:only-of-type {\n",
       "        vertical-align: middle;\n",
       "    }\n",
       "\n",
       "    .dataframe tbody tr th {\n",
       "        vertical-align: top;\n",
       "    }\n",
       "\n",
       "    .dataframe thead th {\n",
       "        text-align: right;\n",
       "    }\n",
       "</style>\n",
       "<table border=\"1\" class=\"dataframe\">\n",
       "  <thead>\n",
       "    <tr style=\"text-align: right;\">\n",
       "      <th></th>\n",
       "      <th>example_id</th>\n",
       "      <th>statement</th>\n",
       "      <th>law_id</th>\n",
       "      <th>article_id</th>\n",
       "      <th>text</th>\n",
       "    </tr>\n",
       "  </thead>\n",
       "  <tbody>\n",
       "    <tr>\n",
       "      <th>0</th>\n",
       "      <td>qr6S2jA9GG</td>\n",
       "      <td>Nếu không phạm tội quả tang, một người sẽ khôn...</td>\n",
       "      <td>Hiến pháp 2013</td>\n",
       "      <td>20</td>\n",
       "      <td>1. Mọi người có quyền bất khả xâm phạm về thân...</td>\n",
       "    </tr>\n",
       "    <tr>\n",
       "      <th>1</th>\n",
       "      <td>zFWTqve74q</td>\n",
       "      <td>Tháng hành động quốc gia phòng, chống bạo lực ...</td>\n",
       "      <td>Luật Phòng, chống bạo lực gia đình 2022</td>\n",
       "      <td>7</td>\n",
       "      <td>Tháng hành động quốc gia phòng, chống bạo lực ...</td>\n",
       "    </tr>\n",
       "    <tr>\n",
       "      <th>2</th>\n",
       "      <td>RwHiqOG8vb</td>\n",
       "      <td>Tháng hành động quốc gia phòng, chống bạo lực ...</td>\n",
       "      <td>Luật Phòng, chống bạo lực gia đình 2022</td>\n",
       "      <td>7</td>\n",
       "      <td>Tháng hành động quốc gia phòng, chống bạo lực ...</td>\n",
       "    </tr>\n",
       "    <tr>\n",
       "      <th>3</th>\n",
       "      <td>wv4eBTDVKS</td>\n",
       "      <td>Tháng hành động quốc gia phòng, chống bạo lực ...</td>\n",
       "      <td>Luật Phòng, chống bạo lực gia đình 2022</td>\n",
       "      <td>7</td>\n",
       "      <td>Tháng hành động quốc gia phòng, chống bạo lực ...</td>\n",
       "    </tr>\n",
       "    <tr>\n",
       "      <th>4</th>\n",
       "      <td>DyWakZCVVK</td>\n",
       "      <td>Tháng hành động quốc gia phòng, chống bạo lực ...</td>\n",
       "      <td>Luật Phòng, chống bạo lực gia đình 2022</td>\n",
       "      <td>7</td>\n",
       "      <td>Tháng hành động quốc gia phòng, chống bạo lực ...</td>\n",
       "    </tr>\n",
       "    <tr>\n",
       "      <th>...</th>\n",
       "      <td>...</td>\n",
       "      <td>...</td>\n",
       "      <td>...</td>\n",
       "      <td>...</td>\n",
       "      <td>...</td>\n",
       "    </tr>\n",
       "    <tr>\n",
       "      <th>135</th>\n",
       "      <td>IdIDVZpLW4</td>\n",
       "      <td>Khoảng thời gian xảy ra trở ngại khách quan là...</td>\n",
       "      <td>Bộ Luật Dân sự 2015</td>\n",
       "      <td>156</td>\n",
       "      <td>Thời gian không tính vào thời hiệu khởi kiện v...</td>\n",
       "    </tr>\n",
       "    <tr>\n",
       "      <th>136</th>\n",
       "      <td>TiFpkKZtFM</td>\n",
       "      <td>Phán quyết trọng tài không bị xem xét lại theo...</td>\n",
       "      <td>Luật Trọng tài thương mại 2010</td>\n",
       "      <td>4</td>\n",
       "      <td>Nguyên tắc giải quyết tranh chấp bằng Trọng tà...</td>\n",
       "    </tr>\n",
       "    <tr>\n",
       "      <th>137</th>\n",
       "      <td>0XKeP3929n</td>\n",
       "      <td>Kinh phí hoạt động của cơ quan thanh tra do ng...</td>\n",
       "      <td>Luật Thanh tra 2022</td>\n",
       "      <td>112</td>\n",
       "      <td>Kinh phí hoạt động của cơ quan thanh tra; chế ...</td>\n",
       "    </tr>\n",
       "    <tr>\n",
       "      <th>138</th>\n",
       "      <td>zw1vs0Odbf</td>\n",
       "      <td>Theo Luật Giáo dục năm 2019, một trong những y...</td>\n",
       "      <td>Luật Giáo dục 2019</td>\n",
       "      <td>7</td>\n",
       "      <td>Yêu cầu về nội dung, phương pháp giáo dục\\n\\n1...</td>\n",
       "    </tr>\n",
       "    <tr>\n",
       "      <th>139</th>\n",
       "      <td>cnBEeaS6WU</td>\n",
       "      <td>Cơ quan điều tra Viện kiểm sát nhân dân tối ca...</td>\n",
       "      <td>Luật Tổ chức viện kiểm sát nhân dân 2014</td>\n",
       "      <td>20</td>\n",
       "      <td>Thẩm quyền điều tra của Cơ quan điều tra Viện ...</td>\n",
       "    </tr>\n",
       "  </tbody>\n",
       "</table>\n",
       "<p>140 rows × 5 columns</p>\n",
       "</div>"
      ],
      "text/plain": [
       "     example_id                                          statement  \\\n",
       "0    qr6S2jA9GG  Nếu không phạm tội quả tang, một người sẽ khôn...   \n",
       "1    zFWTqve74q  Tháng hành động quốc gia phòng, chống bạo lực ...   \n",
       "2    RwHiqOG8vb  Tháng hành động quốc gia phòng, chống bạo lực ...   \n",
       "3    wv4eBTDVKS  Tháng hành động quốc gia phòng, chống bạo lực ...   \n",
       "4    DyWakZCVVK  Tháng hành động quốc gia phòng, chống bạo lực ...   \n",
       "..          ...                                                ...   \n",
       "135  IdIDVZpLW4  Khoảng thời gian xảy ra trở ngại khách quan là...   \n",
       "136  TiFpkKZtFM  Phán quyết trọng tài không bị xem xét lại theo...   \n",
       "137  0XKeP3929n  Kinh phí hoạt động của cơ quan thanh tra do ng...   \n",
       "138  zw1vs0Odbf  Theo Luật Giáo dục năm 2019, một trong những y...   \n",
       "139  cnBEeaS6WU  Cơ quan điều tra Viện kiểm sát nhân dân tối ca...   \n",
       "\n",
       "                                       law_id  article_id  \\\n",
       "0                              Hiến pháp 2013          20   \n",
       "1     Luật Phòng, chống bạo lực gia đình 2022           7   \n",
       "2     Luật Phòng, chống bạo lực gia đình 2022           7   \n",
       "3     Luật Phòng, chống bạo lực gia đình 2022           7   \n",
       "4     Luật Phòng, chống bạo lực gia đình 2022           7   \n",
       "..                                        ...         ...   \n",
       "135                       Bộ Luật Dân sự 2015         156   \n",
       "136            Luật Trọng tài thương mại 2010           4   \n",
       "137                       Luật Thanh tra 2022         112   \n",
       "138                        Luật Giáo dục 2019           7   \n",
       "139  Luật Tổ chức viện kiểm sát nhân dân 2014          20   \n",
       "\n",
       "                                                  text  \n",
       "0    1. Mọi người có quyền bất khả xâm phạm về thân...  \n",
       "1    Tháng hành động quốc gia phòng, chống bạo lực ...  \n",
       "2    Tháng hành động quốc gia phòng, chống bạo lực ...  \n",
       "3    Tháng hành động quốc gia phòng, chống bạo lực ...  \n",
       "4    Tháng hành động quốc gia phòng, chống bạo lực ...  \n",
       "..                                                 ...  \n",
       "135  Thời gian không tính vào thời hiệu khởi kiện v...  \n",
       "136  Nguyên tắc giải quyết tranh chấp bằng Trọng tà...  \n",
       "137  Kinh phí hoạt động của cơ quan thanh tra; chế ...  \n",
       "138  Yêu cầu về nội dung, phương pháp giáo dục\\n\\n1...  \n",
       "139  Thẩm quyền điều tra của Cơ quan điều tra Viện ...  \n",
       "\n",
       "[140 rows x 5 columns]"
      ]
     },
     "execution_count": 31,
     "metadata": {},
     "output_type": "execute_result"
    }
   ],
   "source": [
    "merge_df_test = pd.merge(test_df, legal_df, on=['law_id', 'article_id'], suffixes=('_df1', '_df2'), how='outer')\n",
    "merge_df_test\n",
    "merge_df_test = merge_df_test[~merge_df_test['statement'].isnull()]\n",
    "merge_df_test"
   ]
  },
  {
   "cell_type": "code",
   "execution_count": 16,
   "id": "25b7b57a-6d2a-46f7-8ec3-145803b18f93",
   "metadata": {},
   "outputs": [
    {
     "data": {
      "text/html": [
       "<div>\n",
       "<style scoped>\n",
       "    .dataframe tbody tr th:only-of-type {\n",
       "        vertical-align: middle;\n",
       "    }\n",
       "\n",
       "    .dataframe tbody tr th {\n",
       "        vertical-align: top;\n",
       "    }\n",
       "\n",
       "    .dataframe thead th {\n",
       "        text-align: right;\n",
       "    }\n",
       "</style>\n",
       "<table border=\"1\" class=\"dataframe\">\n",
       "  <thead>\n",
       "    <tr style=\"text-align: right;\">\n",
       "      <th></th>\n",
       "      <th>example_id</th>\n",
       "      <th>label</th>\n",
       "      <th>statement</th>\n",
       "      <th>law_id</th>\n",
       "      <th>article_id</th>\n",
       "      <th>segment</th>\n",
       "      <th>text</th>\n",
       "    </tr>\n",
       "  </thead>\n",
       "  <tbody>\n",
       "    <tr>\n",
       "      <th>0</th>\n",
       "      <td>q9zjh7Uw7Q</td>\n",
       "      <td>No</td>\n",
       "      <td>Người xem dưới 16 tuổi được xem phim có nội du...</td>\n",
       "      <td>Luật Điện ảnh 2022</td>\n",
       "      <td>32</td>\n",
       "      <td>Người xem dưới 16 tuổi được xem phim có nội_du...</td>\n",
       "      <td>Phân loại phim\\n\\n1. Phim được phân loại theo ...</td>\n",
       "    </tr>\n",
       "    <tr>\n",
       "      <th>1</th>\n",
       "      <td>bu3nyKAUNT</td>\n",
       "      <td>No</td>\n",
       "      <td>Người xem từ 18 tuổi trở lên được pháp xem phi...</td>\n",
       "      <td>Luật Điện ảnh 2022</td>\n",
       "      <td>32</td>\n",
       "      <td>Người xem từ 18 tuổi trở lên được pháp xem phi...</td>\n",
       "      <td>Phân loại phim\\n\\n1. Phim được phân loại theo ...</td>\n",
       "    </tr>\n",
       "    <tr>\n",
       "      <th>2</th>\n",
       "      <td>aS4Oxqxklj</td>\n",
       "      <td>Yes</td>\n",
       "      <td>Người từ 16 tuổi trở lên được phép xem phim có...</td>\n",
       "      <td>Luật Điện ảnh 2022</td>\n",
       "      <td>32</td>\n",
       "      <td>Người từ 16 tuổi trở lên được phép xem phim có...</td>\n",
       "      <td>Phân loại phim\\n\\n1. Phim được phân loại theo ...</td>\n",
       "    </tr>\n",
       "    <tr>\n",
       "      <th>3</th>\n",
       "      <td>E3nezW9AK0</td>\n",
       "      <td>No</td>\n",
       "      <td>Phim loại C là phim được phép phổ biến đến ngư...</td>\n",
       "      <td>Luật Điện ảnh 2022</td>\n",
       "      <td>32</td>\n",
       "      <td>Phim loại C là phim được phép phổ_biến đến ngư...</td>\n",
       "      <td>Phân loại phim\\n\\n1. Phim được phân loại theo ...</td>\n",
       "    </tr>\n",
       "    <tr>\n",
       "      <th>4</th>\n",
       "      <td>ckQFn8y202</td>\n",
       "      <td>No</td>\n",
       "      <td>Trong vòng 03 ngày làm việc, kể từ ngày người ...</td>\n",
       "      <td>Luật Phòng, chống ma túy 2021</td>\n",
       "      <td>30</td>\n",
       "      <td>Trong vòng 03 ngày làm_việc , kể từ ngày người...</td>\n",
       "      <td>Cai nghiện ma túy tự nguyện tại gia đình, cộng...</td>\n",
       "    </tr>\n",
       "    <tr>\n",
       "      <th>...</th>\n",
       "      <td>...</td>\n",
       "      <td>...</td>\n",
       "      <td>...</td>\n",
       "      <td>...</td>\n",
       "      <td>...</td>\n",
       "      <td>...</td>\n",
       "      <td>...</td>\n",
       "    </tr>\n",
       "    <tr>\n",
       "      <th>71</th>\n",
       "      <td>InehZtAZn9</td>\n",
       "      <td>Yes</td>\n",
       "      <td>Viên chức bị kỷ luật từ khiển trách đến cách c...</td>\n",
       "      <td>Luật Viên chức 2010</td>\n",
       "      <td>56</td>\n",
       "      <td>Viên_chức bị kỷ_luật từ khiển_trách đến cách_c...</td>\n",
       "      <td>Các quy định khác liên quan đến việc kỷ luật v...</td>\n",
       "    </tr>\n",
       "    <tr>\n",
       "      <th>72</th>\n",
       "      <td>3lEnngVd8Z</td>\n",
       "      <td>Yes</td>\n",
       "      <td>Viên chức bị khiển trách thì thời hạn nâng lươ...</td>\n",
       "      <td>Luật Viên chức 2010</td>\n",
       "      <td>9</td>\n",
       "      <td>Viên_chức bị khiển_trách thì thời_hạn nâng lươ...</td>\n",
       "      <td>Đơn vị sự nghiệp công lập và cơ cấu tổ chức qu...</td>\n",
       "    </tr>\n",
       "    <tr>\n",
       "      <th>73</th>\n",
       "      <td>6nfjyV5thx</td>\n",
       "      <td>No</td>\n",
       "      <td>Cơ quan nhà nước không có thẩm quyền theo dõi,...</td>\n",
       "      <td>Luật Phòng, chống ma túy 2021</td>\n",
       "      <td>14</td>\n",
       "      <td>Cơ_quan nhà_nước không có thẩm_quyền theo_dõi ...</td>\n",
       "      <td>Kiểm soát hoạt động vận chuyển chất ma túy, ti...</td>\n",
       "    </tr>\n",
       "    <tr>\n",
       "      <th>74</th>\n",
       "      <td>TisBomZhjP</td>\n",
       "      <td>Yes</td>\n",
       "      <td>Cách chức là một trong các hình thức xử lý kỷ ...</td>\n",
       "      <td>Luật Viên chức 2010</td>\n",
       "      <td>52</td>\n",
       "      <td>Cách_chức là một trong các hình_thức xử_lý kỷ_...</td>\n",
       "      <td>Các hình thức kỷ luật đối với viên chức \\n\\n1....</td>\n",
       "    </tr>\n",
       "    <tr>\n",
       "      <th>75</th>\n",
       "      <td>Rev8SuR3fn</td>\n",
       "      <td>Yes</td>\n",
       "      <td>Quyền của nhà giáo là gì? Trả lời: Được giảng ...</td>\n",
       "      <td>Luật Giáo dục 2019</td>\n",
       "      <td>70</td>\n",
       "      <td>Quyền của nhà_giáo là gì ? Trả_lời : Được giản...</td>\n",
       "      <td>Quyền của nhà giáo\\n\\n1. Được giảng dạy theo c...</td>\n",
       "    </tr>\n",
       "  </tbody>\n",
       "</table>\n",
       "<p>76 rows × 7 columns</p>\n",
       "</div>"
      ],
      "text/plain": [
       "    example_id label                                          statement  \\\n",
       "0   q9zjh7Uw7Q    No  Người xem dưới 16 tuổi được xem phim có nội du...   \n",
       "1   bu3nyKAUNT    No  Người xem từ 18 tuổi trở lên được pháp xem phi...   \n",
       "2   aS4Oxqxklj   Yes  Người từ 16 tuổi trở lên được phép xem phim có...   \n",
       "3   E3nezW9AK0    No  Phim loại C là phim được phép phổ biến đến ngư...   \n",
       "4   ckQFn8y202    No  Trong vòng 03 ngày làm việc, kể từ ngày người ...   \n",
       "..         ...   ...                                                ...   \n",
       "71  InehZtAZn9   Yes  Viên chức bị kỷ luật từ khiển trách đến cách c...   \n",
       "72  3lEnngVd8Z   Yes  Viên chức bị khiển trách thì thời hạn nâng lươ...   \n",
       "73  6nfjyV5thx    No  Cơ quan nhà nước không có thẩm quyền theo dõi,...   \n",
       "74  TisBomZhjP   Yes  Cách chức là một trong các hình thức xử lý kỷ ...   \n",
       "75  Rev8SuR3fn   Yes  Quyền của nhà giáo là gì? Trả lời: Được giảng ...   \n",
       "\n",
       "                           law_id  article_id  \\\n",
       "0              Luật Điện ảnh 2022          32   \n",
       "1              Luật Điện ảnh 2022          32   \n",
       "2              Luật Điện ảnh 2022          32   \n",
       "3              Luật Điện ảnh 2022          32   \n",
       "4   Luật Phòng, chống ma túy 2021          30   \n",
       "..                            ...         ...   \n",
       "71            Luật Viên chức 2010          56   \n",
       "72            Luật Viên chức 2010           9   \n",
       "73  Luật Phòng, chống ma túy 2021          14   \n",
       "74            Luật Viên chức 2010          52   \n",
       "75             Luật Giáo dục 2019          70   \n",
       "\n",
       "                                              segment  \\\n",
       "0   Người xem dưới 16 tuổi được xem phim có nội_du...   \n",
       "1   Người xem từ 18 tuổi trở lên được pháp xem phi...   \n",
       "2   Người từ 16 tuổi trở lên được phép xem phim có...   \n",
       "3   Phim loại C là phim được phép phổ_biến đến ngư...   \n",
       "4   Trong vòng 03 ngày làm_việc , kể từ ngày người...   \n",
       "..                                                ...   \n",
       "71  Viên_chức bị kỷ_luật từ khiển_trách đến cách_c...   \n",
       "72  Viên_chức bị khiển_trách thì thời_hạn nâng lươ...   \n",
       "73  Cơ_quan nhà_nước không có thẩm_quyền theo_dõi ...   \n",
       "74  Cách_chức là một trong các hình_thức xử_lý kỷ_...   \n",
       "75  Quyền của nhà_giáo là gì ? Trả_lời : Được giản...   \n",
       "\n",
       "                                                 text  \n",
       "0   Phân loại phim\\n\\n1. Phim được phân loại theo ...  \n",
       "1   Phân loại phim\\n\\n1. Phim được phân loại theo ...  \n",
       "2   Phân loại phim\\n\\n1. Phim được phân loại theo ...  \n",
       "3   Phân loại phim\\n\\n1. Phim được phân loại theo ...  \n",
       "4   Cai nghiện ma túy tự nguyện tại gia đình, cộng...  \n",
       "..                                                ...  \n",
       "71  Các quy định khác liên quan đến việc kỷ luật v...  \n",
       "72  Đơn vị sự nghiệp công lập và cơ cấu tổ chức qu...  \n",
       "73  Kiểm soát hoạt động vận chuyển chất ma túy, ti...  \n",
       "74  Các hình thức kỷ luật đối với viên chức \\n\\n1....  \n",
       "75  Quyền của nhà giáo\\n\\n1. Được giảng dạy theo c...  \n",
       "\n",
       "[76 rows x 7 columns]"
      ]
     },
     "execution_count": 16,
     "metadata": {},
     "output_type": "execute_result"
    }
   ],
   "source": [
    "merge_df = merge_df[~merge_df['statement'].isnull()]\n",
    "merge_df"
   ]
  },
  {
   "cell_type": "code",
   "execution_count": 17,
   "id": "4c05f61e-a7d9-407e-9195-995298830353",
   "metadata": {},
   "outputs": [
    {
     "name": "stderr",
     "output_type": "stream",
     "text": [
      "/tmp/ipykernel_83219/2010782718.py:1: SettingWithCopyWarning: \n",
      "A value is trying to be set on a copy of a slice from a DataFrame.\n",
      "Try using .loc[row_indexer,col_indexer] = value instead\n",
      "\n",
      "See the caveats in the documentation: https://pandas.pydata.org/pandas-docs/stable/user_guide/indexing.html#returning-a-view-versus-a-copy\n",
      "  merge_df['inputs'] = 'hypothesis: ' + merge_df['statement'] + 'premise: '+ merge_df['text']\n"
     ]
    }
   ],
   "source": [
    "merge_df['inputs'] = 'hypothesis: ' + merge_df['statement'] + 'premise: '+ merge_df['text']"
   ]
  },
  {
   "cell_type": "code",
   "execution_count": 32,
   "id": "737305d8-d71d-41d8-884a-1f53f557d406",
   "metadata": {},
   "outputs": [],
   "source": [
    "merge_df_test['inputs'] = 'hypothesis: ' + merge_df_test['statement'] + 'premise: '+ merge_df_test['text']"
   ]
  },
  {
   "cell_type": "code",
   "execution_count": 18,
   "id": "3cd1d3bd-42f4-4f86-9508-e31b5e09264b",
   "metadata": {
    "tags": []
   },
   "outputs": [],
   "source": [
    "def preprocess_function(examples):\n",
    "    model_inputs = tokenizer(\n",
    "        examples[\"inputs\"], max_length=1024, truncation=True, padding=True\n",
    "    )\n",
    "    \n",
    "    \n",
    "    labels = tokenizer(\n",
    "        examples[\"labels\"], max_length=256, truncation=True, padding=True\n",
    "    )\n",
    "    model_inputs['labels'] = labels['input_ids']\n",
    "    model_inputs['input_ids'] = model_inputs['input_ids']\n",
    "    return model_inputs"
   ]
  },
  {
   "cell_type": "code",
   "execution_count": 19,
   "id": "5841ab54-9900-42fa-886c-b97ea4d7bbc0",
   "metadata": {
    "tags": []
   },
   "outputs": [
    {
     "name": "stdout",
     "output_type": "stream",
     "text": [
      "                "
     ]
    },
    {
     "data": {
      "application/vnd.jupyter.widget-view+json": {
       "model_id": "63d5b8eea8764503a6d12932026392c8",
       "version_major": 2,
       "version_minor": 0
      },
      "text/plain": [
       "#1:   0%|          | 0/1 [00:00<?, ?ba/s]"
      ]
     },
     "metadata": {},
     "output_type": "display_data"
    },
    {
     "data": {
      "application/vnd.jupyter.widget-view+json": {
       "model_id": "ca4ad3370ce24b059fa561865ac3289e",
       "version_major": 2,
       "version_minor": 0
      },
      "text/plain": [
       "#3:   0%|          | 0/1 [00:00<?, ?ba/s]"
      ]
     },
     "metadata": {},
     "output_type": "display_data"
    },
    {
     "data": {
      "application/vnd.jupyter.widget-view+json": {
       "model_id": "211e6045526e479da5233acfd2fb6444",
       "version_major": 2,
       "version_minor": 0
      },
      "text/plain": [
       "#0:   0%|          | 0/1 [00:00<?, ?ba/s]"
      ]
     },
     "metadata": {},
     "output_type": "display_data"
    },
    {
     "data": {
      "application/vnd.jupyter.widget-view+json": {
       "model_id": "59b3f3d9634346508524ba6531ce59a8",
       "version_major": 2,
       "version_minor": 0
      },
      "text/plain": [
       "#2:   0%|          | 0/1 [00:00<?, ?ba/s]"
      ]
     },
     "metadata": {},
     "output_type": "display_data"
    },
    {
     "data": {
      "application/vnd.jupyter.widget-view+json": {
       "model_id": "f2c3b79a4fc34a45a079102cdf919f29",
       "version_major": 2,
       "version_minor": 0
      },
      "text/plain": [
       "#5:   0%|          | 0/1 [00:00<?, ?ba/s]"
      ]
     },
     "metadata": {},
     "output_type": "display_data"
    },
    {
     "data": {
      "application/vnd.jupyter.widget-view+json": {
       "model_id": "dffb80879c974fbea3888d8d20e37b8f",
       "version_major": 2,
       "version_minor": 0
      },
      "text/plain": [
       "#4:   0%|          | 0/1 [00:00<?, ?ba/s]"
      ]
     },
     "metadata": {},
     "output_type": "display_data"
    },
    {
     "data": {
      "application/vnd.jupyter.widget-view+json": {
       "model_id": "9a9d85f3b6c94ea0976a6fbcb93b555a",
       "version_major": 2,
       "version_minor": 0
      },
      "text/plain": [
       "#6:   0%|          | 0/1 [00:00<?, ?ba/s]"
      ]
     },
     "metadata": {},
     "output_type": "display_data"
    },
    {
     "data": {
      "application/vnd.jupyter.widget-view+json": {
       "model_id": "0caef305374e41b6831451d39ae793be",
       "version_major": 2,
       "version_minor": 0
      },
      "text/plain": [
       "#7:   0%|          | 0/1 [00:00<?, ?ba/s]"
      ]
     },
     "metadata": {},
     "output_type": "display_data"
    }
   ],
   "source": [
    "dict_obj = {'inputs': merge_df['inputs'], 'labels': merge_df['label']}\n",
    "dataset = Dataset.from_dict(dict_obj)\n",
    "train_data = dataset.map(preprocess_function, batched=True, remove_columns=['inputs'], num_proc=8)"
   ]
  },
  {
   "cell_type": "code",
   "execution_count": 16,
   "id": "77f5c5c7-23dd-4184-b398-89036d6894d1",
   "metadata": {
    "tags": []
   },
   "outputs": [
    {
     "name": "stdout",
     "output_type": "stream",
     "text": [
      "                "
     ]
    },
    {
     "data": {
      "application/vnd.jupyter.widget-view+json": {
       "model_id": "2d492f815fcf4caebdeeef7a10f71e7f",
       "version_major": 2,
       "version_minor": 0
      },
      "text/plain": [
       "#1:   0%|          | 0/1 [00:00<?, ?ba/s]"
      ]
     },
     "metadata": {},
     "output_type": "display_data"
    },
    {
     "data": {
      "application/vnd.jupyter.widget-view+json": {
       "model_id": "e3d3ad152e204986b635dcbc89c66258",
       "version_major": 2,
       "version_minor": 0
      },
      "text/plain": [
       "#0:   0%|          | 0/1 [00:00<?, ?ba/s]"
      ]
     },
     "metadata": {},
     "output_type": "display_data"
    },
    {
     "data": {
      "application/vnd.jupyter.widget-view+json": {
       "model_id": "f4e51932bb4445669637db6060ea863b",
       "version_major": 2,
       "version_minor": 0
      },
      "text/plain": [
       "#4:   0%|          | 0/1 [00:00<?, ?ba/s]"
      ]
     },
     "metadata": {},
     "output_type": "display_data"
    },
    {
     "data": {
      "application/vnd.jupyter.widget-view+json": {
       "model_id": "e5cdec538cc34e35a5984cf6167137ce",
       "version_major": 2,
       "version_minor": 0
      },
      "text/plain": [
       "#3:   0%|          | 0/1 [00:00<?, ?ba/s]"
      ]
     },
     "metadata": {},
     "output_type": "display_data"
    },
    {
     "data": {
      "application/vnd.jupyter.widget-view+json": {
       "model_id": "4ac0a160c2e34785921829a38151241a",
       "version_major": 2,
       "version_minor": 0
      },
      "text/plain": [
       "#2:   0%|          | 0/1 [00:00<?, ?ba/s]"
      ]
     },
     "metadata": {},
     "output_type": "display_data"
    },
    {
     "data": {
      "application/vnd.jupyter.widget-view+json": {
       "model_id": "864c30e7f14b44069decdb38129084f3",
       "version_major": 2,
       "version_minor": 0
      },
      "text/plain": [
       "#7:   0%|          | 0/1 [00:00<?, ?ba/s]"
      ]
     },
     "metadata": {},
     "output_type": "display_data"
    },
    {
     "data": {
      "application/vnd.jupyter.widget-view+json": {
       "model_id": "72168fafa58d416691b4c14736f71e4e",
       "version_major": 2,
       "version_minor": 0
      },
      "text/plain": [
       "#6:   0%|          | 0/1 [00:00<?, ?ba/s]"
      ]
     },
     "metadata": {},
     "output_type": "display_data"
    },
    {
     "data": {
      "application/vnd.jupyter.widget-view+json": {
       "model_id": "d0043f1b9b4c41eeb393a6148059a651",
       "version_major": 2,
       "version_minor": 0
      },
      "text/plain": [
       "#5:   0%|          | 0/1 [00:00<?, ?ba/s]"
      ]
     },
     "metadata": {},
     "output_type": "display_data"
    }
   ],
   "source": [
    "dict_obj = {'inputs': test_df['sentence'], 'labels': test_df['Full_Names']}\n",
    "dataset = Dataset.from_dict(dict_obj)\n",
    "test_data = dataset.map(preprocess_function, batched=True, remove_columns=['inputs'], num_proc=8)"
   ]
  },
  {
   "cell_type": "code",
   "execution_count": 20,
   "id": "66b2a68c-af31-4032-b8a9-8c0b43da4828",
   "metadata": {
    "tags": []
   },
   "outputs": [
    {
     "data": {
      "text/plain": [
       "893"
      ]
     },
     "execution_count": 20,
     "metadata": {},
     "output_type": "execute_result"
    }
   ],
   "source": [
    "len(train_data.__getitem__(1)['input_ids'])"
   ]
  },
  {
   "cell_type": "code",
   "execution_count": 21,
   "id": "6a132e39-2720-423b-bfdf-57499aa04085",
   "metadata": {},
   "outputs": [
    {
     "data": {
      "text/plain": [
       "76"
      ]
     },
     "execution_count": 21,
     "metadata": {},
     "output_type": "execute_result"
    }
   ],
   "source": [
    "len(train_data)"
   ]
  },
  {
   "cell_type": "code",
   "execution_count": 22,
   "id": "077c4f0e-b320-4c8a-9778-3cadfec4d3d8",
   "metadata": {
    "tags": []
   },
   "outputs": [
    {
     "ename": "NameError",
     "evalue": "name 'test_data' is not defined",
     "output_type": "error",
     "traceback": [
      "\u001b[0;31m---------------------------------------------------------------------------\u001b[0m",
      "\u001b[0;31mNameError\u001b[0m                                 Traceback (most recent call last)",
      "Cell \u001b[0;32mIn[22], line 1\u001b[0m\n\u001b[0;32m----> 1\u001b[0m \u001b[38;5;28mlen\u001b[39m(\u001b[43mtest_data\u001b[49m)\n",
      "\u001b[0;31mNameError\u001b[0m: name 'test_data' is not defined"
     ]
    }
   ],
   "source": [
    "len(test_data)"
   ]
  },
  {
   "cell_type": "code",
   "execution_count": 23,
   "id": "4d0a1a13-56b8-46a1-8440-999995afdf8e",
   "metadata": {
    "tags": []
   },
   "outputs": [],
   "source": [
    "data_collator = DataCollatorForSeq2Seq(tokenizer, model=model, return_tensors=\"pt\")\n",
    "\n",
    "\n",
    "training_args = Seq2SeqTrainingArguments(\"tmp/\",\n",
    "                                      do_train=True,\n",
    "                                      do_eval=False,\n",
    "                                      num_train_epochs=15,\n",
    "                                      learning_rate=1e-5,\n",
    "                                      warmup_ratio=0.05,\n",
    "                                      weight_decay=0.01,\n",
    "                                      per_device_train_batch_size=2,\n",
    "                                      per_device_eval_batch_size=4,\n",
    "                                      logging_dir='./log',\n",
    "                                      group_by_length=True,\n",
    "                                      save_strategy=\"epoch\",\n",
    "                                      save_total_limit=3,\n",
    "                                      #eval_steps=1,\n",
    "                                      #evaluation_strategy=\"steps\",\n",
    "                                      # evaluation_strategy=\"no\",\n",
    "                                      fp16=True,\n",
    "                                      )"
   ]
  },
  {
   "cell_type": "markdown",
   "id": "f4d28878-92c2-46d7-b44f-09baeb753a52",
   "metadata": {
    "tags": []
   },
   "source": [
    "## Training"
   ]
  },
  {
   "cell_type": "code",
   "execution_count": 24,
   "id": "a9b8867e-c435-400e-8eeb-1c709b372255",
   "metadata": {
    "tags": []
   },
   "outputs": [
    {
     "name": "stderr",
     "output_type": "stream",
     "text": [
      "Using cuda_amp half precision backend\n",
      "/data2/nghiatl/anaconda3/envs/SEO/lib/python3.8/site-packages/transformers/optimization.py:306: FutureWarning: This implementation of AdamW is deprecated and will be removed in a future version. Use the PyTorch implementation torch.optim.AdamW instead, or set `no_deprecation_warning=True` to disable this warning\n",
      "  warnings.warn(\n",
      "***** Running training *****\n",
      "  Num examples = 76\n",
      "  Num Epochs = 15\n",
      "  Instantaneous batch size per device = 2\n",
      "  Total train batch size (w. parallel, distributed & accumulation) = 4\n",
      "  Gradient Accumulation steps = 1\n",
      "  Total optimization steps = 285\n",
      "  Number of trainable parameters = 225950976\n",
      "You're using a T5TokenizerFast tokenizer. Please note that with a fast tokenizer, using the `__call__` method is faster than using a method to encode the text followed by a call to the `pad` method to get a padded encoding.\n",
      "/data2/nghiatl/anaconda3/envs/SEO/lib/python3.8/site-packages/torch/nn/parallel/_functions.py:68: UserWarning: Was asked to gather along dimension 0, but all input tensors were scalars; will instead unsqueeze and return a vector.\n",
      "  warnings.warn('Was asked to gather along dimension 0, but all '\n"
     ]
    },
    {
     "data": {
      "text/html": [
       "\n",
       "    <div>\n",
       "      \n",
       "      <progress value='285' max='285' style='width:300px; height:20px; vertical-align: middle;'></progress>\n",
       "      [285/285 04:14, Epoch 15/15]\n",
       "    </div>\n",
       "    <table border=\"1\" class=\"dataframe\">\n",
       "  <thead>\n",
       " <tr style=\"text-align: left;\">\n",
       "      <th>Step</th>\n",
       "      <th>Training Loss</th>\n",
       "    </tr>\n",
       "  </thead>\n",
       "  <tbody>\n",
       "  </tbody>\n",
       "</table><p>"
      ],
      "text/plain": [
       "<IPython.core.display.HTML object>"
      ]
     },
     "metadata": {},
     "output_type": "display_data"
    },
    {
     "name": "stderr",
     "output_type": "stream",
     "text": [
      "Saving model checkpoint to tmp/checkpoint-19\n",
      "Configuration saved in tmp/checkpoint-19/config.json\n",
      "Configuration saved in tmp/checkpoint-19/generation_config.json\n",
      "Model weights saved in tmp/checkpoint-19/pytorch_model.bin\n",
      "/data2/nghiatl/anaconda3/envs/SEO/lib/python3.8/site-packages/torch/nn/parallel/_functions.py:68: UserWarning: Was asked to gather along dimension 0, but all input tensors were scalars; will instead unsqueeze and return a vector.\n",
      "  warnings.warn('Was asked to gather along dimension 0, but all '\n",
      "Saving model checkpoint to tmp/checkpoint-38\n",
      "Configuration saved in tmp/checkpoint-38/config.json\n",
      "Configuration saved in tmp/checkpoint-38/generation_config.json\n",
      "Model weights saved in tmp/checkpoint-38/pytorch_model.bin\n",
      "/data2/nghiatl/anaconda3/envs/SEO/lib/python3.8/site-packages/torch/nn/parallel/_functions.py:68: UserWarning: Was asked to gather along dimension 0, but all input tensors were scalars; will instead unsqueeze and return a vector.\n",
      "  warnings.warn('Was asked to gather along dimension 0, but all '\n",
      "Saving model checkpoint to tmp/checkpoint-57\n",
      "Configuration saved in tmp/checkpoint-57/config.json\n",
      "Configuration saved in tmp/checkpoint-57/generation_config.json\n",
      "Model weights saved in tmp/checkpoint-57/pytorch_model.bin\n",
      "/data2/nghiatl/anaconda3/envs/SEO/lib/python3.8/site-packages/torch/nn/parallel/_functions.py:68: UserWarning: Was asked to gather along dimension 0, but all input tensors were scalars; will instead unsqueeze and return a vector.\n",
      "  warnings.warn('Was asked to gather along dimension 0, but all '\n",
      "Saving model checkpoint to tmp/checkpoint-76\n",
      "Configuration saved in tmp/checkpoint-76/config.json\n",
      "Configuration saved in tmp/checkpoint-76/generation_config.json\n",
      "Model weights saved in tmp/checkpoint-76/pytorch_model.bin\n",
      "Deleting older checkpoint [tmp/checkpoint-19] due to args.save_total_limit\n",
      "/data2/nghiatl/anaconda3/envs/SEO/lib/python3.8/site-packages/torch/nn/parallel/_functions.py:68: UserWarning: Was asked to gather along dimension 0, but all input tensors were scalars; will instead unsqueeze and return a vector.\n",
      "  warnings.warn('Was asked to gather along dimension 0, but all '\n",
      "Saving model checkpoint to tmp/checkpoint-95\n",
      "Configuration saved in tmp/checkpoint-95/config.json\n",
      "Configuration saved in tmp/checkpoint-95/generation_config.json\n",
      "Model weights saved in tmp/checkpoint-95/pytorch_model.bin\n",
      "Deleting older checkpoint [tmp/checkpoint-38] due to args.save_total_limit\n",
      "/data2/nghiatl/anaconda3/envs/SEO/lib/python3.8/site-packages/torch/nn/parallel/_functions.py:68: UserWarning: Was asked to gather along dimension 0, but all input tensors were scalars; will instead unsqueeze and return a vector.\n",
      "  warnings.warn('Was asked to gather along dimension 0, but all '\n",
      "Saving model checkpoint to tmp/checkpoint-114\n",
      "Configuration saved in tmp/checkpoint-114/config.json\n",
      "Configuration saved in tmp/checkpoint-114/generation_config.json\n",
      "Model weights saved in tmp/checkpoint-114/pytorch_model.bin\n",
      "Deleting older checkpoint [tmp/checkpoint-57] due to args.save_total_limit\n",
      "/data2/nghiatl/anaconda3/envs/SEO/lib/python3.8/site-packages/torch/nn/parallel/_functions.py:68: UserWarning: Was asked to gather along dimension 0, but all input tensors were scalars; will instead unsqueeze and return a vector.\n",
      "  warnings.warn('Was asked to gather along dimension 0, but all '\n",
      "Saving model checkpoint to tmp/checkpoint-133\n",
      "Configuration saved in tmp/checkpoint-133/config.json\n",
      "Configuration saved in tmp/checkpoint-133/generation_config.json\n",
      "Model weights saved in tmp/checkpoint-133/pytorch_model.bin\n",
      "Deleting older checkpoint [tmp/checkpoint-76] due to args.save_total_limit\n",
      "/data2/nghiatl/anaconda3/envs/SEO/lib/python3.8/site-packages/torch/nn/parallel/_functions.py:68: UserWarning: Was asked to gather along dimension 0, but all input tensors were scalars; will instead unsqueeze and return a vector.\n",
      "  warnings.warn('Was asked to gather along dimension 0, but all '\n",
      "Saving model checkpoint to tmp/checkpoint-152\n",
      "Configuration saved in tmp/checkpoint-152/config.json\n",
      "Configuration saved in tmp/checkpoint-152/generation_config.json\n",
      "Model weights saved in tmp/checkpoint-152/pytorch_model.bin\n",
      "Deleting older checkpoint [tmp/checkpoint-95] due to args.save_total_limit\n",
      "/data2/nghiatl/anaconda3/envs/SEO/lib/python3.8/site-packages/torch/nn/parallel/_functions.py:68: UserWarning: Was asked to gather along dimension 0, but all input tensors were scalars; will instead unsqueeze and return a vector.\n",
      "  warnings.warn('Was asked to gather along dimension 0, but all '\n",
      "Saving model checkpoint to tmp/checkpoint-171\n",
      "Configuration saved in tmp/checkpoint-171/config.json\n",
      "Configuration saved in tmp/checkpoint-171/generation_config.json\n",
      "Model weights saved in tmp/checkpoint-171/pytorch_model.bin\n",
      "Deleting older checkpoint [tmp/checkpoint-114] due to args.save_total_limit\n",
      "/data2/nghiatl/anaconda3/envs/SEO/lib/python3.8/site-packages/torch/nn/parallel/_functions.py:68: UserWarning: Was asked to gather along dimension 0, but all input tensors were scalars; will instead unsqueeze and return a vector.\n",
      "  warnings.warn('Was asked to gather along dimension 0, but all '\n",
      "Saving model checkpoint to tmp/checkpoint-190\n",
      "Configuration saved in tmp/checkpoint-190/config.json\n",
      "Configuration saved in tmp/checkpoint-190/generation_config.json\n",
      "Model weights saved in tmp/checkpoint-190/pytorch_model.bin\n",
      "Deleting older checkpoint [tmp/checkpoint-133] due to args.save_total_limit\n",
      "/data2/nghiatl/anaconda3/envs/SEO/lib/python3.8/site-packages/torch/nn/parallel/_functions.py:68: UserWarning: Was asked to gather along dimension 0, but all input tensors were scalars; will instead unsqueeze and return a vector.\n",
      "  warnings.warn('Was asked to gather along dimension 0, but all '\n",
      "Saving model checkpoint to tmp/checkpoint-209\n",
      "Configuration saved in tmp/checkpoint-209/config.json\n",
      "Configuration saved in tmp/checkpoint-209/generation_config.json\n",
      "Model weights saved in tmp/checkpoint-209/pytorch_model.bin\n",
      "Deleting older checkpoint [tmp/checkpoint-152] due to args.save_total_limit\n",
      "/data2/nghiatl/anaconda3/envs/SEO/lib/python3.8/site-packages/torch/nn/parallel/_functions.py:68: UserWarning: Was asked to gather along dimension 0, but all input tensors were scalars; will instead unsqueeze and return a vector.\n",
      "  warnings.warn('Was asked to gather along dimension 0, but all '\n",
      "Saving model checkpoint to tmp/checkpoint-228\n",
      "Configuration saved in tmp/checkpoint-228/config.json\n",
      "Configuration saved in tmp/checkpoint-228/generation_config.json\n",
      "Model weights saved in tmp/checkpoint-228/pytorch_model.bin\n",
      "Deleting older checkpoint [tmp/checkpoint-171] due to args.save_total_limit\n",
      "/data2/nghiatl/anaconda3/envs/SEO/lib/python3.8/site-packages/torch/nn/parallel/_functions.py:68: UserWarning: Was asked to gather along dimension 0, but all input tensors were scalars; will instead unsqueeze and return a vector.\n",
      "  warnings.warn('Was asked to gather along dimension 0, but all '\n",
      "Saving model checkpoint to tmp/checkpoint-247\n",
      "Configuration saved in tmp/checkpoint-247/config.json\n",
      "Configuration saved in tmp/checkpoint-247/generation_config.json\n",
      "Model weights saved in tmp/checkpoint-247/pytorch_model.bin\n",
      "Deleting older checkpoint [tmp/checkpoint-190] due to args.save_total_limit\n",
      "/data2/nghiatl/anaconda3/envs/SEO/lib/python3.8/site-packages/torch/nn/parallel/_functions.py:68: UserWarning: Was asked to gather along dimension 0, but all input tensors were scalars; will instead unsqueeze and return a vector.\n",
      "  warnings.warn('Was asked to gather along dimension 0, but all '\n",
      "Saving model checkpoint to tmp/checkpoint-266\n",
      "Configuration saved in tmp/checkpoint-266/config.json\n",
      "Configuration saved in tmp/checkpoint-266/generation_config.json\n",
      "Model weights saved in tmp/checkpoint-266/pytorch_model.bin\n",
      "Deleting older checkpoint [tmp/checkpoint-209] due to args.save_total_limit\n",
      "/data2/nghiatl/anaconda3/envs/SEO/lib/python3.8/site-packages/torch/nn/parallel/_functions.py:68: UserWarning: Was asked to gather along dimension 0, but all input tensors were scalars; will instead unsqueeze and return a vector.\n",
      "  warnings.warn('Was asked to gather along dimension 0, but all '\n",
      "Saving model checkpoint to tmp/checkpoint-285\n",
      "Configuration saved in tmp/checkpoint-285/config.json\n",
      "Configuration saved in tmp/checkpoint-285/generation_config.json\n",
      "Model weights saved in tmp/checkpoint-285/pytorch_model.bin\n",
      "Deleting older checkpoint [tmp/checkpoint-228] due to args.save_total_limit\n",
      "\n",
      "\n",
      "Training completed. Do not forget to share your model on huggingface.co/models =)\n",
      "\n",
      "\n"
     ]
    },
    {
     "data": {
      "text/plain": [
       "TrainOutput(global_step=285, training_loss=3.7405706037554824, metrics={'train_runtime': 257.9464, 'train_samples_per_second': 4.42, 'train_steps_per_second': 1.105, 'total_flos': 834229492715520.0, 'train_loss': 3.7405706037554824, 'epoch': 15.0})"
      ]
     },
     "execution_count": 24,
     "metadata": {},
     "output_type": "execute_result"
    }
   ],
   "source": [
    "trainer = Seq2SeqTrainer(\n",
    "    model=model,\n",
    "    args=training_args,\n",
    "    train_dataset=train_data,\n",
    "    data_collator=data_collator,\n",
    ")\n",
    "\n",
    "trainer.train()"
   ]
  },
  {
   "cell_type": "markdown",
   "id": "370775cc-b658-4e45-90ee-e53959d5688c",
   "metadata": {},
   "source": [
    "## Inference"
   ]
  },
  {
   "cell_type": "code",
   "execution_count": 20,
   "id": "251422d9-884a-418a-93f9-89c2e6db0b9b",
   "metadata": {},
   "outputs": [
    {
     "name": "stderr",
     "output_type": "stream",
     "text": [
      "/data2/nghiatl/.tmp/ipykernel_253278/2721381364.py:2: FutureWarning: load_metric is deprecated and will be removed in the next major version of datasets. Use 'evaluate.load' instead, from the new library 🤗 Evaluate: https://huggingface.co/docs/evaluate\n",
      "  metric = load_metric(\"rouge\")\n"
     ]
    }
   ],
   "source": [
    "from datasets import load_metric\n",
    "metric = load_metric(\"rouge\")"
   ]
  },
  {
   "cell_type": "code",
   "execution_count": 26,
   "id": "55c24e3d-b452-4901-8ef6-acddfb6d995d",
   "metadata": {
    "tags": []
   },
   "outputs": [
    {
     "name": "stderr",
     "output_type": "stream",
     "text": [
      "loading configuration file ./tmp/checkpoint-285/config.json\n",
      "Model config T5Config {\n",
      "  \"_name_or_path\": \"./tmp/checkpoint-285\",\n",
      "  \"architectures\": [\n",
      "    \"T5ForConditionalGeneration\"\n",
      "  ],\n",
      "  \"d_ff\": 3072,\n",
      "  \"d_kv\": 64,\n",
      "  \"d_model\": 768,\n",
      "  \"decoder_start_token_id\": 0,\n",
      "  \"dense_act_fn\": \"relu\",\n",
      "  \"dropout_rate\": 0.1,\n",
      "  \"eos_token_id\": 1,\n",
      "  \"feed_forward_proj\": \"relu\",\n",
      "  \"initializer_factor\": 1.0,\n",
      "  \"is_encoder_decoder\": true,\n",
      "  \"is_gated_act\": false,\n",
      "  \"layer_norm_epsilon\": 1e-06,\n",
      "  \"model_type\": \"t5\",\n",
      "  \"n_positions\": 512,\n",
      "  \"num_decoder_layers\": 12,\n",
      "  \"num_heads\": 12,\n",
      "  \"num_layers\": 12,\n",
      "  \"output_past\": true,\n",
      "  \"pad_token_id\": 0,\n",
      "  \"relative_attention_max_distance\": 128,\n",
      "  \"relative_attention_num_buckets\": 32,\n",
      "  \"torch_dtype\": \"float32\",\n",
      "  \"transformers_version\": \"4.26.1\",\n",
      "  \"use_cache\": true,\n",
      "  \"vocab_size\": 36096\n",
      "}\n",
      "\n",
      "loading weights file ./tmp/checkpoint-285/pytorch_model.bin\n",
      "Generate config GenerationConfig {\n",
      "  \"decoder_start_token_id\": 0,\n",
      "  \"eos_token_id\": 1,\n",
      "  \"pad_token_id\": 0,\n",
      "  \"transformers_version\": \"4.26.1\"\n",
      "}\n",
      "\n",
      "All model checkpoint weights were used when initializing T5ForConditionalGeneration.\n",
      "\n",
      "All the weights of T5ForConditionalGeneration were initialized from the model checkpoint at ./tmp/checkpoint-285.\n",
      "If your task is similar to the task the model of the checkpoint was trained on, you can already use T5ForConditionalGeneration for predictions without further training.\n",
      "loading configuration file ./tmp/checkpoint-285/generation_config.json\n",
      "Generate config GenerationConfig {\n",
      "  \"_from_model_config\": true,\n",
      "  \"decoder_start_token_id\": 0,\n",
      "  \"eos_token_id\": 1,\n",
      "  \"pad_token_id\": 0,\n",
      "  \"transformers_version\": \"4.26.1\"\n",
      "}\n",
      "\n"
     ]
    }
   ],
   "source": [
    "model = AutoModelForSeq2SeqLM.from_pretrained(\"./tmp/checkpoint-285\")"
   ]
  },
  {
   "cell_type": "code",
   "execution_count": 46,
   "id": "afb40078-f447-456e-962d-32f38daa74bc",
   "metadata": {},
   "outputs": [
    {
     "data": {
      "text/plain": [
       "T5ForConditionalGeneration(\n",
       "  (shared): Embedding(36096, 768)\n",
       "  (encoder): T5Stack(\n",
       "    (embed_tokens): Embedding(36096, 768)\n",
       "    (block): ModuleList(\n",
       "      (0): T5Block(\n",
       "        (layer): ModuleList(\n",
       "          (0): T5LayerSelfAttention(\n",
       "            (SelfAttention): T5Attention(\n",
       "              (q): Linear(in_features=768, out_features=768, bias=False)\n",
       "              (k): Linear(in_features=768, out_features=768, bias=False)\n",
       "              (v): Linear(in_features=768, out_features=768, bias=False)\n",
       "              (o): Linear(in_features=768, out_features=768, bias=False)\n",
       "              (relative_attention_bias): Embedding(32, 12)\n",
       "            )\n",
       "            (layer_norm): T5LayerNorm()\n",
       "            (dropout): Dropout(p=0.1, inplace=False)\n",
       "          )\n",
       "          (1): T5LayerFF(\n",
       "            (DenseReluDense): T5DenseActDense(\n",
       "              (wi): Linear(in_features=768, out_features=3072, bias=False)\n",
       "              (wo): Linear(in_features=3072, out_features=768, bias=False)\n",
       "              (dropout): Dropout(p=0.1, inplace=False)\n",
       "              (act): ReLU()\n",
       "            )\n",
       "            (layer_norm): T5LayerNorm()\n",
       "            (dropout): Dropout(p=0.1, inplace=False)\n",
       "          )\n",
       "        )\n",
       "      )\n",
       "      (1-11): 11 x T5Block(\n",
       "        (layer): ModuleList(\n",
       "          (0): T5LayerSelfAttention(\n",
       "            (SelfAttention): T5Attention(\n",
       "              (q): Linear(in_features=768, out_features=768, bias=False)\n",
       "              (k): Linear(in_features=768, out_features=768, bias=False)\n",
       "              (v): Linear(in_features=768, out_features=768, bias=False)\n",
       "              (o): Linear(in_features=768, out_features=768, bias=False)\n",
       "            )\n",
       "            (layer_norm): T5LayerNorm()\n",
       "            (dropout): Dropout(p=0.1, inplace=False)\n",
       "          )\n",
       "          (1): T5LayerFF(\n",
       "            (DenseReluDense): T5DenseActDense(\n",
       "              (wi): Linear(in_features=768, out_features=3072, bias=False)\n",
       "              (wo): Linear(in_features=3072, out_features=768, bias=False)\n",
       "              (dropout): Dropout(p=0.1, inplace=False)\n",
       "              (act): ReLU()\n",
       "            )\n",
       "            (layer_norm): T5LayerNorm()\n",
       "            (dropout): Dropout(p=0.1, inplace=False)\n",
       "          )\n",
       "        )\n",
       "      )\n",
       "    )\n",
       "    (final_layer_norm): T5LayerNorm()\n",
       "    (dropout): Dropout(p=0.1, inplace=False)\n",
       "  )\n",
       "  (decoder): T5Stack(\n",
       "    (embed_tokens): Embedding(36096, 768)\n",
       "    (block): ModuleList(\n",
       "      (0): T5Block(\n",
       "        (layer): ModuleList(\n",
       "          (0): T5LayerSelfAttention(\n",
       "            (SelfAttention): T5Attention(\n",
       "              (q): Linear(in_features=768, out_features=768, bias=False)\n",
       "              (k): Linear(in_features=768, out_features=768, bias=False)\n",
       "              (v): Linear(in_features=768, out_features=768, bias=False)\n",
       "              (o): Linear(in_features=768, out_features=768, bias=False)\n",
       "              (relative_attention_bias): Embedding(32, 12)\n",
       "            )\n",
       "            (layer_norm): T5LayerNorm()\n",
       "            (dropout): Dropout(p=0.1, inplace=False)\n",
       "          )\n",
       "          (1): T5LayerCrossAttention(\n",
       "            (EncDecAttention): T5Attention(\n",
       "              (q): Linear(in_features=768, out_features=768, bias=False)\n",
       "              (k): Linear(in_features=768, out_features=768, bias=False)\n",
       "              (v): Linear(in_features=768, out_features=768, bias=False)\n",
       "              (o): Linear(in_features=768, out_features=768, bias=False)\n",
       "            )\n",
       "            (layer_norm): T5LayerNorm()\n",
       "            (dropout): Dropout(p=0.1, inplace=False)\n",
       "          )\n",
       "          (2): T5LayerFF(\n",
       "            (DenseReluDense): T5DenseActDense(\n",
       "              (wi): Linear(in_features=768, out_features=3072, bias=False)\n",
       "              (wo): Linear(in_features=3072, out_features=768, bias=False)\n",
       "              (dropout): Dropout(p=0.1, inplace=False)\n",
       "              (act): ReLU()\n",
       "            )\n",
       "            (layer_norm): T5LayerNorm()\n",
       "            (dropout): Dropout(p=0.1, inplace=False)\n",
       "          )\n",
       "        )\n",
       "      )\n",
       "      (1-11): 11 x T5Block(\n",
       "        (layer): ModuleList(\n",
       "          (0): T5LayerSelfAttention(\n",
       "            (SelfAttention): T5Attention(\n",
       "              (q): Linear(in_features=768, out_features=768, bias=False)\n",
       "              (k): Linear(in_features=768, out_features=768, bias=False)\n",
       "              (v): Linear(in_features=768, out_features=768, bias=False)\n",
       "              (o): Linear(in_features=768, out_features=768, bias=False)\n",
       "            )\n",
       "            (layer_norm): T5LayerNorm()\n",
       "            (dropout): Dropout(p=0.1, inplace=False)\n",
       "          )\n",
       "          (1): T5LayerCrossAttention(\n",
       "            (EncDecAttention): T5Attention(\n",
       "              (q): Linear(in_features=768, out_features=768, bias=False)\n",
       "              (k): Linear(in_features=768, out_features=768, bias=False)\n",
       "              (v): Linear(in_features=768, out_features=768, bias=False)\n",
       "              (o): Linear(in_features=768, out_features=768, bias=False)\n",
       "            )\n",
       "            (layer_norm): T5LayerNorm()\n",
       "            (dropout): Dropout(p=0.1, inplace=False)\n",
       "          )\n",
       "          (2): T5LayerFF(\n",
       "            (DenseReluDense): T5DenseActDense(\n",
       "              (wi): Linear(in_features=768, out_features=3072, bias=False)\n",
       "              (wo): Linear(in_features=3072, out_features=768, bias=False)\n",
       "              (dropout): Dropout(p=0.1, inplace=False)\n",
       "              (act): ReLU()\n",
       "            )\n",
       "            (layer_norm): T5LayerNorm()\n",
       "            (dropout): Dropout(p=0.1, inplace=False)\n",
       "          )\n",
       "        )\n",
       "      )\n",
       "    )\n",
       "    (final_layer_norm): T5LayerNorm()\n",
       "    (dropout): Dropout(p=0.1, inplace=False)\n",
       "  )\n",
       "  (lm_head): Linear(in_features=768, out_features=36096, bias=False)\n",
       ")"
      ]
     },
     "execution_count": 46,
     "metadata": {},
     "output_type": "execute_result"
    }
   ],
   "source": [
    "model.to(device)"
   ]
  },
  {
   "cell_type": "code",
   "execution_count": 24,
   "id": "409e71cb-e4fc-427c-84ba-f5a7fa18de80",
   "metadata": {
    "tags": []
   },
   "outputs": [],
   "source": [
    "data_collator = DataCollatorForSeq2Seq(tokenizer, model=model, return_tensors=\"pt\")"
   ]
  },
  {
   "cell_type": "code",
   "execution_count": 25,
   "id": "1d115eb4-8da6-4cc4-8b1e-98d584710793",
   "metadata": {
    "tags": []
   },
   "outputs": [
    {
     "name": "stderr",
     "output_type": "stream",
     "text": [
      "You're using a T5TokenizerFast tokenizer. Please note that with a fast tokenizer, using the `__call__` method is faster than using a method to encode the text followed by a call to the `pad` method to get a padded encoding.\n"
     ]
    },
    {
     "data": {
      "text/plain": [
       "{'rouge1': AggregateScore(low=Score(precision=0.9988018200762616, recall=0.998607608406491, fmeasure=0.9986347304154567), mid=Score(precision=0.9993805976766871, recall=0.9992200939966306, fmeasure=0.9992122872988795), high=Score(precision=0.999738926576217, recall=0.999624013478762, fmeasure=0.9995694423257271)),\n",
       " 'rouge2': AggregateScore(low=Score(precision=0.9981314400993173, recall=0.9978736809435135, fmeasure=0.9978791822185674), mid=Score(precision=0.9989075108628183, recall=0.9987212911235258, fmeasure=0.9986936873389385), high=Score(precision=0.9995065952824334, recall=0.9993792675356922, fmeasure=0.9992694402121775)),\n",
       " 'rougeL': AggregateScore(low=Score(precision=0.9988835018178597, recall=0.9986260973663208, fmeasure=0.9987033673961049), mid=Score(precision=0.9993805976766871, recall=0.9992294049835948, fmeasure=0.9992270898974809), high=Score(precision=0.9997396027312231, recall=0.9996311519021017, fmeasure=0.9995801538881147)),\n",
       " 'rougeLsum': AggregateScore(low=Score(precision=0.9988361266294227, recall=0.9986207324643078, fmeasure=0.9986899167199446), mid=Score(precision=0.9993843664095062, recall=0.9992147734326506, fmeasure=0.9992268191150873), high=Score(precision=0.9997438370133901, recall=0.9996304203245544, fmeasure=0.9995735406740994))}"
      ]
     },
     "execution_count": 25,
     "metadata": {},
     "output_type": "execute_result"
    }
   ],
   "source": [
    "import tqdm\n",
    "import torch \n",
    "import numpy as np\n",
    "metrics = load_metric('rouge')\n",
    "\n",
    "max_target_length = 256\n",
    "dataloader = torch.utils.data.DataLoader(test_data, collate_fn=data_collator, batch_size=32)\n",
    "\n",
    "predictions = []\n",
    "references = []\n",
    "for i, batch in enumerate(dataloader):\n",
    "  outputs = model.generate(\n",
    "      input_ids=batch['input_ids'].to('cuda'),\n",
    "      max_length=max_target_length,\n",
    "      attention_mask=batch['attention_mask'].to('cuda'),\n",
    "  )\n",
    "  outputs = [tokenizer.decode(out, clean_up_tokenization_spaces=False, skip_special_tokens=True) for out in outputs]\n",
    "\n",
    "  labels = np.where(batch['labels'] != -100,  batch['labels'], tokenizer.pad_token_id)\n",
    "  actuals = [tokenizer.decode(out, clean_up_tokenization_spaces=False, skip_special_tokens=True) for out in labels]\n",
    "  predictions.extend(outputs)\n",
    "  references.extend(actuals)\n",
    "  metrics.add_batch(predictions=outputs, references=actuals)\n",
    "\n",
    "\n",
    "metrics.compute()"
   ]
  },
  {
   "cell_type": "code",
   "execution_count": 26,
   "id": "f2873f01-6ffe-4fef-be54-e50813fd251a",
   "metadata": {
    "tags": []
   },
   "outputs": [
    {
     "data": {
      "text/plain": [
       "5341"
      ]
     },
     "execution_count": 26,
     "metadata": {},
     "output_type": "execute_result"
    }
   ],
   "source": [
    "correct = 0\n",
    "correct += sum(o==a for o, a in zip(predictions, references))\n",
    "correct"
   ]
  },
  {
   "cell_type": "code",
   "execution_count": 27,
   "id": "3c3487f8-1c09-4524-98af-0de00cf46053",
   "metadata": {
    "tags": []
   },
   "outputs": [
    {
     "data": {
      "text/plain": [
       "0.9945996275605214"
      ]
     },
     "execution_count": 27,
     "metadata": {},
     "output_type": "execute_result"
    }
   ],
   "source": [
    "correct/ len(predictions)"
   ]
  },
  {
   "cell_type": "code",
   "execution_count": 30,
   "id": "71cec75a-de54-4d82-a4a8-c455d25ff749",
   "metadata": {
    "tags": []
   },
   "outputs": [],
   "source": [
    "a= next(iter(dataloader))"
   ]
  },
  {
   "cell_type": "code",
   "execution_count": 31,
   "id": "5c92be36-98b7-406d-ac84-5fc81bdd2113",
   "metadata": {
    "tags": []
   },
   "outputs": [
    {
     "data": {
      "text/plain": [
       "'nguyễn văn tiến thì dạ bên không cho'"
      ]
     },
     "execution_count": 31,
     "metadata": {},
     "output_type": "execute_result"
    }
   ],
   "source": [
    "tokenizer.decode(a['input_ids'][0], skip_special_tokens=True)"
   ]
  },
  {
   "cell_type": "code",
   "execution_count": 37,
   "id": "89fc1b86-51e0-4f12-b407-22259f33ca05",
   "metadata": {},
   "outputs": [
    {
     "data": {
      "text/plain": [
       "'hypothesis: Nếu không phạm tội quả tang, một người sẽ không bị bắt nếu không có quyết định hoặc phê chuẩn của cơ quan nhà nước có thẩm quyền theo quy định của pháp luậtpremise: 1. Mọi người có quyền bất khả xâm phạm về thân thể, được pháp luật bảo hộ về sức khoẻ, danh dự và nhân phẩm; không bị tra tấn, bạo lực, truy bức, nhục hình hay bất kỳ hình thức đối xử nào khác xâm phạm thân thể, sức khỏe, xúc phạm danh dự, nhân phẩm.\\n\\n2. Không ai bị bắt nếu không có quyết định của Toà án nhân dân, quyết định hoặc phê chuẩn của Viện kiểm sát nhân dân, trừ trường hợp phạm tội quả tang. Việc bắt, giam, giữ người do luật định.\\n\\n3. Mọi người có quyền hiến mô, bộ phận cơ thể người và hiến xác theo quy định của luật. Việc thử nghiệm y học, dược học, khoa học hay bất kỳ hình thức thử nghiệm nào khác trên cơ thể người phải có sự đồng ý của người được thử nghiệm.'"
      ]
     },
     "execution_count": 37,
     "metadata": {},
     "output_type": "execute_result"
    }
   ],
   "source": [
    "merge_df_test.iloc[0]['inputs']"
   ]
  },
  {
   "cell_type": "code",
   "execution_count": 38,
   "id": "14d733d5-d3f7-4652-bf18-024def42c144",
   "metadata": {
    "tags": []
   },
   "outputs": [
    {
     "data": {
      "text/plain": [
       "{'input_ids': tensor([[12957,  2938, 12508, 35862,  1647,   129,   460,   725,   777,  1634,\n",
       "         35790,    68,    93,   310,   129,   138,   406,  1092,   129,    71,\n",
       "           649,   238,   799,  1766,  1334,    54,   316,   206,   233,   246,\n",
       "            71,  1192,   451,   334,   212,   238,    54,   463,   710,  3738,\n",
       "           428,  4918, 35862,    40, 35792,  3784,    93,    71,   451,   745,\n",
       "          1149,  1858,   460,   183,   907,   243, 35790,    74,   463,   710,\n",
       "           683,   811,   183,  1095, 10160, 35790,   981,   466,    39,   234,\n",
       "           962, 35899,   129,   138,   325,   795, 35790,  1855,   374, 35790,\n",
       "           713,  1557, 35790,  4801,   401,   763,   745,  1050,   401,   814,\n",
       "           271,   678,   847,   424,  1858,   460,   907,   243, 35790,  1095,\n",
       "          1925, 35790,  1665,   460,   981,   466, 35790,   234,   962, 35792,\n",
       "            60, 35792,  1319,  1409,   138,   406,  1092,   129,    71,   649,\n",
       "           238,    54, 11348,   392,   234,   257, 35790,   649,   238,   799,\n",
       "          1766,  1334,    54,  1689,   708,   394,   234,   257, 35790,  2063,\n",
       "           395,   373,   460,   725,   777,  1634, 35792,  1660,   406, 35790,\n",
       "          1501, 35790,   366,    93,   284,   710,   238, 35792,   122, 35792,\n",
       "          3784,    93,    71,   451,  2865,   728, 35790,   398,  1670,   316,\n",
       "           243,    93,    39,  2865,   731,   334,   212,   238,    54,   710,\n",
       "         35792,  1660,  1729,  1266,   426,   268, 35790,  3171,   268, 35790,\n",
       "           441,   268,   763,   745,  1050,   401,   814,  1729,  1266,   847,\n",
       "           424,   195,   316,   243,    93,   335,    71,   221,   247,   322,\n",
       "            54,    93,    74,  1729,  1266, 35792,     1]]), 'attention_mask': tensor([[1, 1, 1, 1, 1, 1, 1, 1, 1, 1, 1, 1, 1, 1, 1, 1, 1, 1, 1, 1, 1, 1, 1, 1,\n",
       "         1, 1, 1, 1, 1, 1, 1, 1, 1, 1, 1, 1, 1, 1, 1, 1, 1, 1, 1, 1, 1, 1, 1, 1,\n",
       "         1, 1, 1, 1, 1, 1, 1, 1, 1, 1, 1, 1, 1, 1, 1, 1, 1, 1, 1, 1, 1, 1, 1, 1,\n",
       "         1, 1, 1, 1, 1, 1, 1, 1, 1, 1, 1, 1, 1, 1, 1, 1, 1, 1, 1, 1, 1, 1, 1, 1,\n",
       "         1, 1, 1, 1, 1, 1, 1, 1, 1, 1, 1, 1, 1, 1, 1, 1, 1, 1, 1, 1, 1, 1, 1, 1,\n",
       "         1, 1, 1, 1, 1, 1, 1, 1, 1, 1, 1, 1, 1, 1, 1, 1, 1, 1, 1, 1, 1, 1, 1, 1,\n",
       "         1, 1, 1, 1, 1, 1, 1, 1, 1, 1, 1, 1, 1, 1, 1, 1, 1, 1, 1, 1, 1, 1, 1, 1,\n",
       "         1, 1, 1, 1, 1, 1, 1, 1, 1, 1, 1, 1, 1, 1, 1, 1, 1, 1, 1, 1, 1, 1, 1, 1,\n",
       "         1, 1, 1, 1, 1, 1, 1, 1, 1, 1, 1, 1, 1, 1, 1, 1, 1, 1, 1, 1, 1, 1, 1, 1,\n",
       "         1]])}"
      ]
     },
     "execution_count": 38,
     "metadata": {},
     "output_type": "execute_result"
    }
   ],
   "source": [
    "t = merge_df_test.iloc[0]['inputs']\n",
    "b = tokenizer(t, return_tensors='pt')\n",
    "b"
   ]
  },
  {
   "cell_type": "code",
   "execution_count": 40,
   "id": "d3d2c53b-b081-4ee8-b560-cf271435766d",
   "metadata": {},
   "outputs": [
    {
     "data": {
      "text/plain": [
       "torch.Size([1, 217])"
      ]
     },
     "execution_count": 40,
     "metadata": {},
     "output_type": "execute_result"
    }
   ],
   "source": [
    "b['input_ids'].shape"
   ]
  },
  {
   "cell_type": "code",
   "execution_count": 47,
   "id": "34df80a1-ea47-405e-ace9-f8127bb1530d",
   "metadata": {
    "tags": []
   },
   "outputs": [
    {
     "name": "stderr",
     "output_type": "stream",
     "text": [
      "Generate config GenerationConfig {\n",
      "  \"decoder_start_token_id\": 0,\n",
      "  \"eos_token_id\": 1,\n",
      "  \"pad_token_id\": 0,\n",
      "  \"transformers_version\": \"4.26.1\"\n",
      "}\n",
      "\n"
     ]
    },
    {
     "data": {
      "text/plain": [
       "tensor([[    0, 19074,     1]], device='cuda:1')"
      ]
     },
     "execution_count": 47,
     "metadata": {},
     "output_type": "execute_result"
    }
   ],
   "source": [
    "outputs = model.generate(\n",
    "      input_ids=b['input_ids'].to('cuda:1'),\n",
    "      max_length=20,\n",
    "      attention_mask=b['attention_mask'].to('cuda:1'),\n",
    "  )\n",
    "outputs"
   ]
  },
  {
   "cell_type": "code",
   "execution_count": 48,
   "id": "0c6c29af-2c85-4598-bb58-cf8beb0745a0",
   "metadata": {
    "tags": []
   },
   "outputs": [
    {
     "data": {
      "text/plain": [
       "'Yes'"
      ]
     },
     "execution_count": 48,
     "metadata": {},
     "output_type": "execute_result"
    }
   ],
   "source": [
    "tokenizer.decode(outputs[0], skip_special_tokens=True)"
   ]
  },
  {
   "cell_type": "code",
   "execution_count": null,
   "id": "633042a9-690a-4543-a8c0-e7fc4607c697",
   "metadata": {},
   "outputs": [],
   "source": []
  },
  {
   "cell_type": "code",
   "execution_count": null,
   "id": "69aea4aa-a4e8-4f12-a167-6e59e5b9c7f7",
   "metadata": {},
   "outputs": [],
   "source": []
  }
 ],
 "metadata": {
  "kernelspec": {
   "display_name": "SEO",
   "language": "python",
   "name": "seo"
  },
  "language_info": {
   "codemirror_mode": {
    "name": "ipython",
    "version": 3
   },
   "file_extension": ".py",
   "mimetype": "text/x-python",
   "name": "python",
   "nbconvert_exporter": "python",
   "pygments_lexer": "ipython3",
   "version": "3.8.16"
  }
 },
 "nbformat": 4,
 "nbformat_minor": 5
}
